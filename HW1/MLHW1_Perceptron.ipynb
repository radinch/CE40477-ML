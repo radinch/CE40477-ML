{
  "nbformat": 4,
  "nbformat_minor": 0,
  "metadata": {
    "colab": {
      "provenance": []
    },
    "kernelspec": {
      "name": "python3",
      "display_name": "Python 3"
    },
    "language_info": {
      "name": "python"
    }
  },
  "cells": [
    {
      "cell_type": "markdown",
      "source": [
        "<h1 style=\"text-align: center\">\n",
        "Machine Learning HW1 </br>\n",
        "Perceptron in Python\n",
        "</h1>\n",
        "\n",
        "#### Full Name: Radin Cheraghi\n",
        "\n",
        "#### Std. Number: 401105815"
      ],
      "metadata": {
        "id": "yGWsLqx0lcOS"
      }
    },
    {
      "cell_type": "markdown",
      "source": [
        "In this notebook we implement the Preceptron learning algorithm for diabetes detection."
      ],
      "metadata": {
        "id": "YqRatsnylubP"
      }
    },
    {
      "cell_type": "code",
      "source": [
        "import numpy as np\n",
        "import pandas as pd\n",
        "from matplotlib import pyplot as plt\n",
        "from sklearn.model_selection import train_test_split\n",
        "import random"
      ],
      "metadata": {
        "id": "zPkGrlFel7qZ"
      },
      "execution_count": 185,
      "outputs": []
    },
    {
      "cell_type": "markdown",
      "source": [
        "The `dataset.csv` file should be supplied to you for this notebook. First we need to read and process this dataset to use for training. This dataset contains 9 columns. columns 1-8 are features of individuals and the final column is the label. The following process should be applied to data prior to training:\n",
        "\n",
        "1.   Remove the rows containing zero values for `BMI`, `Gⅼuⅽose` and `BⅼooⅾPressure`.\n",
        "2.   Transform the `Outⅽoⅿe` column for all data into `-1` and `1` for negative and positive label respectively.\n",
        "3.   Normalize data using the minimum and maximum values in each feature.\n",
        "4.   Divide the dataset into %85 training and %15 testing.\n",
        "\n",
        "\n",
        "The `Dataset` class handles these operations for us. Complete the functions indicated with a `# ===TODO===` comment in the cell below:"
      ],
      "metadata": {
        "id": "Uuzr3Z1TnCSf"
      }
    },
    {
      "cell_type": "code",
      "source": [
        "data = pd.read_csv('Dataset.csv')\n",
        "set_array = data.to_numpy()\n",
        "print(set_array)"
      ],
      "metadata": {
        "colab": {
          "base_uri": "https://localhost:8080/"
        },
        "id": "V6dNSs__MPy4",
        "outputId": "745e085e-0ae2-49ae-ff6b-8989120f4cb9"
      },
      "execution_count": 186,
      "outputs": [
        {
          "output_type": "stream",
          "name": "stdout",
          "text": [
            "[[7 160 54 ... 0.588 39 True]\n",
            " [5 115 98 ... 0.209 28 True]\n",
            " [5 189 64 ... 0.583 29 True]\n",
            " ...\n",
            " [5 143 78 ... 0.19 47 False]\n",
            " [4 184 78 ... 0.264 31 True]\n",
            " [2 87 0 ... 0.773 25 False]]\n"
          ]
        }
      ]
    },
    {
      "cell_type": "code",
      "source": [
        "class Dataset:\n",
        "    \"\"\"Reads and holds a dataset in memory\"\"\"\n",
        "    def __init__(self, file_path: str):\n",
        "        \"\"\"Read samples from a csv file\"\"\"\n",
        "        self.data = pd.read_csv(file_path)\n",
        "        self.headers = list(self.data.columns)\n",
        "\n",
        "    def index(self, i):\n",
        "        \"\"\"Returns data sample at given index\"\"\"\n",
        "        return self.data.loc[i]\n",
        "\n",
        "    def __len__(self):\n",
        "        \"\"\"Returns the length of dataset\"\"\"\n",
        "        return len(self.data)\n",
        "\n",
        "    def __iter__(self):\n",
        "        return iter(self.data)\n",
        "\n",
        "    def remove_zeros(self):\n",
        "        \"\"\"Remove samples that have zero values\"\"\"\n",
        "        # ===TODO===\n",
        "        self.data = self.data[(self.data['BloodPressure'] != 0) & (self.data['BMI'] != 0) & (self.data['Glucose'] != 0)]\n",
        "\n",
        "    def normalize(self):\n",
        "        \"\"\"Normalize data\"\"\"\n",
        "        # ===TODO===\n",
        "        self.data['Outcome'] = self.data['Outcome'].apply(lambda x: 1 if x == True else -1)\n",
        "        for feature in self.data.columns:\n",
        "          if feature != 'Outcome':\n",
        "            min = self.data[feature].min()\n",
        "            max = self.data[feature].max()\n",
        "            self.data[feature] = (self.data[feature] - min) / (max - min)\n",
        "\n",
        "    def split(self):\n",
        "        \"\"\"Return 85 percent of data for training and 15 percent of data for testing (random)\"\"\"\n",
        "        # ===TODO===\n",
        "        set_array = self.data.to_numpy()\n",
        "        train_data, test_data = train_test_split(set_array, test_size = 0.15, random_state = 42)\n",
        "        return train_data, test_data"
      ],
      "metadata": {
        "id": "Kbw3OiPFl_b6"
      },
      "execution_count": 187,
      "outputs": []
    },
    {
      "cell_type": "markdown",
      "source": [
        "Next we implement the perceptron learning algorithm. We need to implement two functions, `test` and `train`. Complete the functions indicated with a `# ===TODO===` comment in the cell below to implement the following tasks:\n",
        "\n",
        "1. Use the defined attributes for `__init__` to adjust the training and testing.\n",
        "2. Implement the `train` function. Pay attention to save the weights for each iteration in `w_history` attribute.\n",
        "3. In the `test` function use the `w_history` to generate an `accuracy_history` for the test set.\n",
        "4. Plot this accuracy history using `matplotlib`."
      ],
      "metadata": {
        "id": "yiycCEIYpzJV"
      }
    },
    {
      "cell_type": "code",
      "source": [
        "def sign(v):\n",
        "    \"\"\"Simple sign step function\"\"\"\n",
        "    if v >= 0:\n",
        "        return 1\n",
        "    else:\n",
        "        return -1\n",
        "\n",
        "class Perceptron:\n",
        "    \"\"\"Implementation of a simple preceptron\"\"\"\n",
        "    def __init__(self, train_set, test_set, rate=0.01, max_iterations=1_000):\n",
        "        self.train_set = train_set\n",
        "        self.test_set = test_set\n",
        "        self.rate = rate # adjust the rate of which the model learns\n",
        "        self.trained = False # we set this to true when model is trained to avoid retraining\n",
        "        self.max_iterations = max_iterations # force break after this many iterations.\n",
        "        self.w_history = [] # save the weight history in each iteration to plot accuracy\n",
        "        self.w = np.random.normal(0,0.1,len(self.train_set[0])) # weights\n",
        "\n",
        "    def return_mis_classified(self):\n",
        "        misclassified_idx = []\n",
        "        for idx in range(len(self.train_set)):\n",
        "            x = self.train_set[idx].copy()\n",
        "            y = x[len(x) - 1]\n",
        "            x[len(x) - 1] = 1\n",
        "            if y * np.dot(self.w, x) < 0:\n",
        "              misclassified_idx.append(idx)\n",
        "        return misclassified_idx\n",
        "\n",
        "    def train(self):\n",
        "        \"\"\"Train Perceptron using the train_set\"\"\"\n",
        "        # ===TODO===\n",
        "        for iteration in range(self.max_iterations):\n",
        "          misclassified_idx = self.return_mis_classified()\n",
        "          if len(misclassified_idx) != 0:\n",
        "            # idx = random.randint(0,len(misclassified_idx) - 1)\n",
        "            for idx in misclassified_idx:\n",
        "              x = self.train_set[idx].copy()\n",
        "              y = x[len(x) - 1]\n",
        "              x[len(x) - 1] = 1\n",
        "              self.w += self.rate * y * x\n",
        "          self.w_history.append(self.w.copy())\n",
        "          # print(self.w)\n",
        "          # print(1 - (len(misclassified_idx) / len(self.train_set)))\n",
        "        self.trained = True\n",
        "        self.w_history.append(self.w)\n",
        "\n",
        "    def test(self):\n",
        "        \"\"\"Tests a trained model on test_set and plots accuracy for weight history\"\"\"\n",
        "        if not self.trained:\n",
        "            return\n",
        "        # ===TODO===\n",
        "        # Don't forget the plot the accuracy history change as the model was training!\n",
        "        accuracy_history = []\n",
        "        for w in self.w_history:\n",
        "          mis_classified_counts = 0\n",
        "          for idx in range(len(self.test_set)):\n",
        "              x = self.test_set[idx].copy()\n",
        "              y = x[len(x) - 1]\n",
        "              x[len(x) - 1] = 1\n",
        "              if y * np.dot(w, x) < 0:\n",
        "                mis_classified_counts += 1\n",
        "          # print(w)\n",
        "          accuracy_history.append(1 - (mis_classified_counts / len(self.test_set)))\n",
        "        plt.plot(accuracy_history)\n",
        "        plt.xlabel('weight index')\n",
        "        plt.ylabel('accuracy')\n",
        "        plt.show()\n",
        "        # print(max(accuracy_history))\n"
      ],
      "metadata": {
        "id": "DGtFdkzMpd5J"
      },
      "execution_count": 271,
      "outputs": []
    },
    {
      "cell_type": "markdown",
      "source": [
        "Now we train and test the model. You **don't** need to change anything in the following cell. **You should expect a final accuracy of > 70%.**"
      ],
      "metadata": {
        "id": "mipekBaquq1a"
      }
    },
    {
      "cell_type": "code",
      "source": [
        "DATASET_FILE_PATH = \"Dataset.csv\"\n",
        "\n",
        "dataset = Dataset(DATASET_FILE_PATH)\n",
        "print(f\"read {len(dataset)} data samples from {DATASET_FILE_PATH}\")\n",
        "\n",
        "dataset.remove_zeros()\n",
        "print(f\"pruned dataset to {len(dataset)} samples\")\n",
        "\n",
        "dataset.normalize()\n",
        "print('normalized data according to min max scaling')\n",
        "\n",
        "training_set, testing_set = dataset.split()\n",
        "print(f\"\"\"splited data into training \\\n",
        "(size={len(training_set)}) and \\\n",
        "testing (size={len(testing_set)}) sets\"\"\")\n",
        "\n",
        "diab = Perceptron(training_set, testing_set)\n",
        "diab.train()\n",
        "diab.test()\n"
      ],
      "metadata": {
        "id": "MO6Fl64Tum5s",
        "colab": {
          "base_uri": "https://localhost:8080/",
          "height": 542
        },
        "outputId": "8c1f7c72-c2f4-44a0-80f7-22608264b201"
      },
      "execution_count": 272,
      "outputs": [
        {
          "output_type": "stream",
          "name": "stdout",
          "text": [
            "read 768 data samples from Dataset.csv\n",
            "pruned dataset to 724 samples\n",
            "normalized data according to min max scaling\n",
            "splited data into training (size=615) and testing (size=109) sets\n"
          ]
        },
        {
          "output_type": "display_data",
          "data": {
            "text/plain": [
              "<Figure size 640x480 with 1 Axes>"
            ],
            "image/png": "[encoded data removed]"
          },
          "metadata": {}
        }
      ]
    }
  ]
}