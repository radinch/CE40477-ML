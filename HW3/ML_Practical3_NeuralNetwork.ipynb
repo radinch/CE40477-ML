{
  "cells": [
    {
      "cell_type": "markdown",
      "id": "5e5fd69e",
      "metadata": {
        "id": "5e5fd69e"
      },
      "source": [
        "<br>\n",
        "<font>\n",
        "<div dir=ltr align=center>\n",
        "<img src=\"https://cdn.freebiesupply.com/logos/large/2x/sharif-logo-png-transparent.png\" width=150 height=150> <br>\n",
        "<font color=0F5298 size=7>\n",
        "    Machine Learning <br>\n",
        "<font color=2565AE size=5>\n",
        "    Computer Engineering Department <br>\n",
        "    Fall 2024<br>\n",
        "<font color=3C99D size=5>\n",
        "    Practical Assignment 3 - Neural Network - From Scratch <br>\n",
        "<font color=0CBCDF size=4>\n",
        "   &#x1F335; Amirhossein Akbari  &#x1F335;\n",
        "</div>\n",
        "\n",
        "____"
      ]
    },
    {
      "cell_type": "markdown",
      "id": "9bba6b1f",
      "metadata": {
        "id": "9bba6b1f"
      },
      "source": [
        "<font color=9999FF size=4>\n",
        "&#x1F388; Full Name : Radin Cheraghi\n",
        "<br>\n",
        "<font color=9999FF size=4>\n",
        "&#x1F388; Student Number : 401105815"
      ]
    },
    {
      "cell_type": "markdown",
      "id": "745eed4c",
      "metadata": {
        "id": "745eed4c"
      },
      "source": [
        "<font color=#ffb578 size=3>\n",
        "you are free to modify, add, or remove any cells as you see fit to complete your tasks. Feel free to change any of the provided code or content to better suit your understanding and approach to the problems.\n",
        "\n",
        "- **Questions**: If you have any questions or require clarifications as you work through the notebook, please do not hesitate to ask. You can post your queries on Quera or reach out via Telegram.\n",
        "- **Feedback**: We encourage you to seek feedback and engage in discussions to enhance your learning experience and improve your solutions.\n",
        "</font>"
      ]
    },
    {
      "cell_type": "code",
      "execution_count": 2,
      "id": "881f2e4c",
      "metadata": {
        "colab": {
          "base_uri": "https://localhost:8080/"
        },
        "id": "881f2e4c",
        "outputId": "519e1212-8179-4de2-b6df-7b0c12852d89"
      },
      "outputs": [
        {
          "output_type": "stream",
          "name": "stdout",
          "text": [
            "Requirement already satisfied: future in /usr/local/lib/python3.10/dist-packages (1.0.0)\n",
            "Requirement already satisfied: pandas in /usr/local/lib/python3.10/dist-packages (2.2.2)\n",
            "Requirement already satisfied: numpy>=1.22.4 in /usr/local/lib/python3.10/dist-packages (from pandas) (1.26.4)\n",
            "Requirement already satisfied: python-dateutil>=2.8.2 in /usr/local/lib/python3.10/dist-packages (from pandas) (2.8.2)\n",
            "Requirement already satisfied: pytz>=2020.1 in /usr/local/lib/python3.10/dist-packages (from pandas) (2024.2)\n",
            "Requirement already satisfied: tzdata>=2022.7 in /usr/local/lib/python3.10/dist-packages (from pandas) (2024.2)\n",
            "Requirement already satisfied: six>=1.5 in /usr/local/lib/python3.10/dist-packages (from python-dateutil>=2.8.2->pandas) (1.16.0)\n",
            "Requirement already satisfied: torchvision in /usr/local/lib/python3.10/dist-packages (0.20.1+cu121)\n",
            "Requirement already satisfied: numpy in /usr/local/lib/python3.10/dist-packages (from torchvision) (1.26.4)\n",
            "Requirement already satisfied: torch==2.5.1 in /usr/local/lib/python3.10/dist-packages (from torchvision) (2.5.1+cu121)\n",
            "Requirement already satisfied: pillow!=8.3.*,>=5.3.0 in /usr/local/lib/python3.10/dist-packages (from torchvision) (11.0.0)\n",
            "Requirement already satisfied: filelock in /usr/local/lib/python3.10/dist-packages (from torch==2.5.1->torchvision) (3.16.1)\n",
            "Requirement already satisfied: typing-extensions>=4.8.0 in /usr/local/lib/python3.10/dist-packages (from torch==2.5.1->torchvision) (4.12.2)\n",
            "Requirement already satisfied: networkx in /usr/local/lib/python3.10/dist-packages (from torch==2.5.1->torchvision) (3.4.2)\n",
            "Requirement already satisfied: jinja2 in /usr/local/lib/python3.10/dist-packages (from torch==2.5.1->torchvision) (3.1.4)\n",
            "Requirement already satisfied: fsspec in /usr/local/lib/python3.10/dist-packages (from torch==2.5.1->torchvision) (2024.10.0)\n",
            "Requirement already satisfied: sympy==1.13.1 in /usr/local/lib/python3.10/dist-packages (from torch==2.5.1->torchvision) (1.13.1)\n",
            "Requirement already satisfied: mpmath<1.4,>=1.1.0 in /usr/local/lib/python3.10/dist-packages (from sympy==1.13.1->torch==2.5.1->torchvision) (1.3.0)\n",
            "Requirement already satisfied: MarkupSafe>=2.0 in /usr/local/lib/python3.10/dist-packages (from jinja2->torch==2.5.1->torchvision) (3.0.2)\n"
          ]
        }
      ],
      "source": [
        "!pip install future\n",
        "!pip install pandas\n",
        "!pip install torchvision"
      ]
    },
    {
      "cell_type": "code",
      "execution_count": 3,
      "id": "8efb6140",
      "metadata": {
        "id": "8efb6140"
      },
      "outputs": [],
      "source": [
        "from utils.gradient_check import eval_numerical_gradient, eval_numerical_gradient_array\n",
        "from utils.data import get_MNIST_data, get_normalized_MNIST_data, get_california_housing_data, get_california_housing_normalized__data\n",
        "from builtins import range\n",
        "import numpy as np\n",
        "import matplotlib.pyplot as plt\n",
        "from utils.solver import *\n",
        "import pandas as pd\n",
        "from sklearn.datasets import fetch_california_housing\n",
        "\n",
        "\n",
        "\n",
        "%matplotlib inline\n",
        "plt.rcParams['figure.figsize'] = (10.0, 8.0) # set default size of plots\n",
        "plt.rcParams['image.cmap'] = 'gray'\n",
        "\n",
        "def rel_error(x, y):\n",
        "  \"\"\" returns relative error \"\"\"\n",
        "  return np.max(np.abs(x - y) / (np.maximum(1e-8, np.abs(x) + np.abs(y))))\n",
        "\n",
        "def print_mean_std(x,axis=0):\n",
        "    print(f\"  means: {x.mean(axis=axis)}\")\n",
        "    print(f\"  stds:  {x.std(axis=axis)}\\n\")"
      ]
    },
    {
      "cell_type": "markdown",
      "id": "57c3af9e",
      "metadata": {
        "id": "57c3af9e"
      },
      "source": [
        "# Fully-Connected Neural Nets\n",
        "In this exercise we will implement fully-connected networks using a modular approach. For each layer we will implement a `forward` and a `backward` function. The `forward` function will receive inputs, weights, and other parameters and will return both an output and a `cache` object storing data needed for the backward pass, like this:\n",
        "\n",
        "```python\n",
        "def layer_forward(x, w):\n",
        "  \"\"\" Receive inputs x and weights w \"\"\"\n",
        "  # Do some computations ...\n",
        "  z = # ... some intermediate value\n",
        "  # Do some more computations ...\n",
        "  out = # the output\n",
        "   \n",
        "  cache = (x, w, z, out) # Values we need to compute gradients\n",
        "   \n",
        "  return out, cache\n",
        "```\n",
        "\n",
        "The backward pass will receive upstream derivatives and the `cache` object, and will return gradients with respect to the inputs and weights, like this:\n",
        "\n",
        "```python\n",
        "def layer_backward(dout, cache):\n",
        "  \"\"\"\n",
        "  Receive dout (derivative of loss with respect to outputs) and cache,\n",
        "  and compute derivative with respect to inputs.\n",
        "  \"\"\"\n",
        "  # Unpack cache values\n",
        "  x, w, z, out = cache\n",
        "  \n",
        "  # Use values in cache to compute derivatives\n",
        "  dx = # Derivative of loss with respect to x\n",
        "  dw = # Derivative of loss with respect to w\n",
        "  \n",
        "  return dx, dw\n",
        "```\n",
        "\n",
        "After implementing a bunch of layers this way, we will be able to easily combine them to build classifiers with different architectures."
      ]
    },
    {
      "cell_type": "markdown",
      "id": "649895ab",
      "metadata": {
        "id": "649895ab"
      },
      "source": [
        "# Affine layer: forward\n",
        "Implement the `affine_forward` function."
      ]
    },
    {
      "cell_type": "code",
      "execution_count": 4,
      "id": "03c584b4",
      "metadata": {
        "id": "03c584b4"
      },
      "outputs": [],
      "source": [
        "def affine_forward(x, w, b):\n",
        "    \"\"\"\n",
        "    Performs the forward pass for an affine (fully-connected) layer.\n",
        "\n",
        "    The input x has shape (N, d_1, ..., d_k) and contains a batch of N\n",
        "    samples, where each sample x[i] has dimensions (d_1, ..., d_k). We\n",
        "    will reshape each input into a flat vector with size D = d_1 * ... * d_k,\n",
        "    and then transform it into an output vector of dimension M.\n",
        "\n",
        "    Parameters:\n",
        "    - x: A numpy array representing the input data with shape (N, d_1, ..., d_k)\n",
        "    - w: A numpy array of weights with shape (D, M)\n",
        "    - b: A numpy array of biases with shape (M,)\n",
        "\n",
        "    Returns:\n",
        "    - out: The output of the affine transformation, with shape (N, M)\n",
        "    - cache: A tuple (x, w, b) to store intermediate variables for backpropagation\n",
        "    \"\"\"\n",
        "    ###########################################################################\n",
        "    # Task: Implement the affine forward pass. Store the computed result in   #\n",
        "    # the variable 'out'. You'll need to reshape the input into rows.         #\n",
        "    ###########################################################################\n",
        "    # *****START OF YOUR CODE (DO NOT DELETE/MODIFY THIS LINE)*****\n",
        "    N = x.shape[0]\n",
        "    x_reshaped = x.reshape(N,-1)\n",
        "    out = x_reshaped @ w + b\n",
        "    cache = (x, w, b)\n",
        "    return out, cache"
      ]
    },
    {
      "cell_type": "markdown",
      "id": "acdd5827",
      "metadata": {
        "id": "acdd5827"
      },
      "source": [
        "You can test your implementaion by running the following:"
      ]
    },
    {
      "cell_type": "code",
      "execution_count": 5,
      "id": "80db2fe8",
      "metadata": {
        "colab": {
          "base_uri": "https://localhost:8080/"
        },
        "id": "80db2fe8",
        "outputId": "bfe60393-d663-4344-b38f-89af1fa3d5b1"
      },
      "outputs": [
        {
          "output_type": "stream",
          "name": "stdout",
          "text": [
            "Testing affine_forward function:\n",
            "difference:  9.769849468192957e-10\n"
          ]
        }
      ],
      "source": [
        "# Testing the affine_forward function\n",
        "\n",
        "# Define the parameters for the test\n",
        "num_inputs = 2                          # Number of input samples in the batch\n",
        "input_shape = (4, 5, 6)                  # Shape of each input sample (d_1, d_2, d_3)\n",
        "output_dim = 3                           # Dimensionality of the output\n",
        "\n",
        "# Calculate the size of the input and weight arrays\n",
        "input_size = num_inputs * np.prod(input_shape)   # Total number of elements in input array\n",
        "weight_size = output_dim * np.prod(input_shape)  # Total number of elements in weight array\n",
        "\n",
        "# Create test input data, weights, and biases\n",
        "x = np.linspace(-0.1, 0.5, num=input_size).reshape(num_inputs, *input_shape)\n",
        "w = np.linspace(-0.2, 0.3, num=weight_size).reshape(np.prod(input_shape), output_dim)\n",
        "b = np.linspace(-0.3, 0.1, num=output_dim)\n",
        "\n",
        "# Perform the forward pass using the affine_forward function\n",
        "out, _ = affine_forward(x, w, b)\n",
        "\n",
        "# Define the correct output to compare against\n",
        "correct_out = np.array([[1.49834967, 1.70660132, 1.91485297],\n",
        "                        [3.25553199, 3.5141327,  3.77273342]])\n",
        "\n",
        "# Check the difference between computed output and expected output\n",
        "# The error should be around e-9 or smaller to pass the test.\n",
        "print('Testing affine_forward function:')\n",
        "print('difference: ', rel_error(out, correct_out))"
      ]
    },
    {
      "cell_type": "markdown",
      "id": "8e64b312",
      "metadata": {
        "id": "8e64b312"
      },
      "source": [
        "# Affine layer: backward\n",
        "Now implement the `affine_backward` function and test your implementation using numeric gradient checking."
      ]
    },
    {
      "cell_type": "code",
      "execution_count": 6,
      "id": "e61d5b9c",
      "metadata": {
        "id": "e61d5b9c"
      },
      "outputs": [],
      "source": [
        "def affine_backward(dout, cache):\n",
        "    \"\"\"\n",
        "    Performs the backward pass for an affine (fully-connected) layer.\n",
        "\n",
        "    Parameters:\n",
        "    - dout: Upstream gradient from the next layer, with shape (N, M)\n",
        "    - cache: A tuple containing:\n",
        "      - x: Input data of shape (N, d_1, ..., d_k), where N is the batch size\n",
        "      - w: Weight matrix of shape (D, M), where D is the flattened dimension of x\n",
        "      - b: Bias vector of shape (M,)\n",
        "\n",
        "    Returns:\n",
        "    - dx: Gradient of the loss with respect to x, with shape (N, d_1, ..., d_k)\n",
        "    - dw: Gradient of the loss with respect to w, with shape (D, M)\n",
        "    - db: Gradient of the loss with respect to b, with shape (M,)\n",
        "    \"\"\"\n",
        "    ###########################################################################\n",
        "    # Task: Implement the backward pass for the affine layer, calculating    #\n",
        "    # the gradients dx, dw, and db.                                           #\n",
        "    ###########################################################################\n",
        "    # *****START OF YOUR CODE (DO NOT DELETE/MODIFY THIS LINE)*****\n",
        "\n",
        "    x, w, b = cache\n",
        "    N = x.shape[0]\n",
        "    x_reshaped = x.reshape(N,-1)\n",
        "\n",
        "    dx_reshaped = dout @ w.T\n",
        "    dx = dx_reshaped.reshape(*x.shape)\n",
        "    dw = x_reshaped.T @ dout\n",
        "    db = dout.sum(axis = 0)\n",
        "\n",
        "    return dx, dw, db\n"
      ]
    },
    {
      "cell_type": "code",
      "execution_count": 7,
      "id": "64de3af3",
      "metadata": {
        "scrolled": true,
        "colab": {
          "base_uri": "https://localhost:8080/"
        },
        "id": "64de3af3",
        "outputId": "189b478d-bbc4-4a28-d124-4c6de8f3e394"
      },
      "outputs": [
        {
          "output_type": "stream",
          "name": "stdout",
          "text": [
            "Testing affine_backward function:\n",
            "dx error:  5.399100368651805e-11\n",
            "dw error:  9.904211865398145e-11\n",
            "db error:  2.4122867568119087e-11\n"
          ]
        }
      ],
      "source": [
        "# Test the affine_backward function\n",
        "\n",
        "# Set a random seed for reproducibility\n",
        "np.random.seed(231)\n",
        "\n",
        "# Generate random test inputs\n",
        "x = np.random.randn(10, 2, 3)          # Input data of shape (N=10, d_1=2, d_2=3)\n",
        "w = np.random.randn(6, 5)               # Weights with shape (D=6, M=5)\n",
        "b = np.random.randn(5)                  # Biases with shape (M=5)\n",
        "dout = np.random.randn(10, 5)           # Upstream gradient with shape (N=10, M=5)\n",
        "\n",
        "# Compute numerical gradients for dx, dw, and db to validate the backward pass\n",
        "dx_num = eval_numerical_gradient_array(lambda x: affine_forward(x, w, b)[0], x, dout)\n",
        "dw_num = eval_numerical_gradient_array(lambda w: affine_forward(x, w, b)[0], w, dout)\n",
        "db_num = eval_numerical_gradient_array(lambda b: affine_forward(x, w, b)[0], b, dout)\n",
        "\n",
        "# Perform forward pass to cache variables needed for the backward pass\n",
        "_, cache = affine_forward(x, w, b)\n",
        "\n",
        "# Use the affine_backward function to compute analytical gradients\n",
        "dx, dw, db = affine_backward(dout, cache)\n",
        "\n",
        "# Print the relative error between analytical and numerical gradients\n",
        "# The error should be small, ideally around e-10 or less, to confirm accuracy\n",
        "print('Testing affine_backward function:')\n",
        "print('dx error: ', rel_error(dx_num, dx))  # Check error for gradient dx\n",
        "print('dw error: ', rel_error(dw_num, dw))  # Check error for gradient dw\n",
        "print('db error: ', rel_error(db_num, db))  # Check error for gradient db"
      ]
    },
    {
      "cell_type": "markdown",
      "id": "af5910d2",
      "metadata": {
        "id": "af5910d2"
      },
      "source": [
        "# ReLU activation: forward\n",
        "Implement the forward pass for the ReLU activation function in the `relu_forward` function and test your implementation using numeric gradient checking."
      ]
    },
    {
      "cell_type": "code",
      "execution_count": 8,
      "id": "c537098f",
      "metadata": {
        "id": "c537098f"
      },
      "outputs": [],
      "source": [
        "def relu_forward(x):\n",
        "    \"\"\"\n",
        "    Performs the forward pass for a ReLU (Rectified Linear Unit) layer.\n",
        "\n",
        "    Parameter:\n",
        "    - x: Input data, can be of any shape\n",
        "\n",
        "    Returns:\n",
        "    - out: Output data, with the same shape as x, where each element is the result\n",
        "           of applying the ReLU activation (i.e., max(0, x))\n",
        "    - cache: A cached copy of the input x, saved for use in the backward pass\n",
        "    \"\"\"\n",
        "    ###########################################################################\n",
        "    # Task: Implement the forward pass for the ReLU layer.                    #\n",
        "    ###########################################################################\n",
        "    # *****START OF YOUR CODE (DO NOT DELETE/MODIFY THIS LINE)*****\n",
        "\n",
        "    cache = x.copy()\n",
        "    out = np.maximum(0,x)\n",
        "    return out, cache\n"
      ]
    },
    {
      "cell_type": "code",
      "execution_count": 9,
      "id": "4cc17aa4",
      "metadata": {
        "colab": {
          "base_uri": "https://localhost:8080/"
        },
        "id": "4cc17aa4",
        "outputId": "02e00b76-e2c9-4be7-a51e-90d4082976fb"
      },
      "outputs": [
        {
          "output_type": "stream",
          "name": "stdout",
          "text": [
            "Testing relu_forward function:\n",
            "difference:  4.999999798022158e-08\n"
          ]
        }
      ],
      "source": [
        "# Test the relu_forward function\n",
        "\n",
        "# Create test input data\n",
        "x = np.linspace(-0.5, 0.5, num=12).reshape(3, 4)  # Input array shaped (3, 4)\n",
        "\n",
        "# Perform the forward pass using the relu_forward function\n",
        "out, _ = relu_forward(x)\n",
        "\n",
        "# Define the expected output for comparison\n",
        "correct_out = np.array([[0.,         0.,         0.,         0.        ],\n",
        "                        [0.,         0.,         0.04545455, 0.13636364],\n",
        "                        [0.22727273, 0.31818182, 0.40909091, 0.5       ]])\n",
        "\n",
        "# Calculate and print the difference between computed output and expected output\n",
        "# The error should ideally be around e-8 to confirm correct implementation\n",
        "print('Testing relu_forward function:')\n",
        "print('difference: ', rel_error(out, correct_out))\n"
      ]
    },
    {
      "cell_type": "markdown",
      "id": "6171f37c",
      "metadata": {
        "id": "6171f37c"
      },
      "source": [
        "# ReLU activation: backward\n",
        "Now implement the backward pass for the ReLU activation function in the `relu_backward` function."
      ]
    },
    {
      "cell_type": "code",
      "execution_count": 10,
      "id": "3187da88",
      "metadata": {
        "id": "3187da88"
      },
      "outputs": [],
      "source": [
        "def relu_backward(dout, cache):\n",
        "    \"\"\"\n",
        "    Performs the backward pass for a ReLU (Rectified Linear Unit) layer.\n",
        "\n",
        "    Parameters:\n",
        "    - dout: Gradient from the upstream layer, with the same shape as the input x\n",
        "    - cache: Cached input x from the forward pass, also of the same shape as dout\n",
        "\n",
        "    Returns:\n",
        "    - dx: Gradient of the loss with respect to x, where elements are set to the\n",
        "          upstream gradient (dout) wherever x was positive during the forward pass,\n",
        "          and zero elsewhere.\n",
        "    \"\"\"\n",
        "    ###########################################################################\n",
        "    # Task: Implement the backward pass for the ReLU layer, computing the     #\n",
        "    # gradient dx based on the upstream gradient dout and cached input x.     #\n",
        "    ###########################################################################\n",
        "    # *****START OF YOUR CODE (DO NOT DELETE/MODIFY THIS LINE)*****\n",
        "    x = cache\n",
        "    dx = dout * (x > 0)\n",
        "    return dx\n"
      ]
    },
    {
      "cell_type": "markdown",
      "id": "88966dd6",
      "metadata": {
        "id": "88966dd6"
      },
      "source": [
        "You can test your implementation using numeric gradient checking:"
      ]
    },
    {
      "cell_type": "code",
      "execution_count": 11,
      "id": "e81e30fd",
      "metadata": {
        "colab": {
          "base_uri": "https://localhost:8080/"
        },
        "id": "e81e30fd",
        "outputId": "097ce755-16e7-4cc7-dec8-4f444195594c"
      },
      "outputs": [
        {
          "output_type": "stream",
          "name": "stdout",
          "text": [
            "Testing relu_backward function:\n",
            "dx error:  3.2756349136310288e-12\n"
          ]
        }
      ],
      "source": [
        "# Test the relu_backward function\n",
        "\n",
        "# Set a random seed for reproducibility\n",
        "np.random.seed(231)\n",
        "\n",
        "# Generate random test input and upstream gradient\n",
        "x = np.random.randn(10, 10)              # Input data shaped (10, 10)\n",
        "dout = np.random.randn(*x.shape)         # Upstream gradient with the same shape as x\n",
        "\n",
        "# Compute the numerical gradient for dx to validate the backward pass\n",
        "dx_num = eval_numerical_gradient_array(lambda x: relu_forward(x)[0], x, dout)\n",
        "\n",
        "# Perform the forward pass to cache the input for use in the backward pass\n",
        "_, cache = relu_forward(x)\n",
        "\n",
        "# Compute the analytical gradient using the relu_backward function\n",
        "dx = relu_backward(dout, cache)\n",
        "\n",
        "# Print the relative error between analytical and numerical gradients\n",
        "# The error should ideally be around e-12 to confirm accurate implementation\n",
        "print('Testing relu_backward function:')\n",
        "print('dx error: ', rel_error(dx_num, dx))"
      ]
    },
    {
      "cell_type": "markdown",
      "id": "b0f2e4d2",
      "metadata": {
        "id": "b0f2e4d2"
      },
      "source": [
        "# Sigmoid activation: forward\n",
        "Implement the forward pass for the Sigmoid activation function in the `sigmoid_forward` function and test your implementation using numeric gradient checking."
      ]
    },
    {
      "cell_type": "code",
      "execution_count": 12,
      "id": "872854b0",
      "metadata": {
        "id": "872854b0"
      },
      "outputs": [],
      "source": [
        "def sigmoid_forward(x):\n",
        "    \"\"\"\n",
        "    Performs the forward pass for a Sigmoid activation layer.\n",
        "\n",
        "    Parameter:\n",
        "    - x: Input data of any shape\n",
        "\n",
        "    Returns:\n",
        "    - out: Output after applying the Sigmoid function, with the same shape as x\n",
        "    - cache: A cached copy of the input x, used for the backward pass\n",
        "    \"\"\"\n",
        "    ###########################################################################\n",
        "    # Task: Implement the forward pass for the Sigmoid layer by applying the  #\n",
        "    # Sigmoid function to each element in x.                                  #\n",
        "    ###########################################################################\n",
        "    # *****START OF YOUR CODE (DO NOT DELETE/MODIFY THIS LINE)*****\n",
        "\n",
        "    cache = x.copy()\n",
        "    out = 1 / (1 + np.exp(-x))\n",
        "    return out, cache\n"
      ]
    },
    {
      "cell_type": "code",
      "execution_count": 13,
      "id": "1aadfec8",
      "metadata": {
        "colab": {
          "base_uri": "https://localhost:8080/"
        },
        "id": "1aadfec8",
        "outputId": "ecd1049e-8db6-4843-d0ef-2d464cc6616a"
      },
      "outputs": [
        {
          "output_type": "stream",
          "name": "stdout",
          "text": [
            "Testing sigmoid_forward function:\n",
            "difference:  6.383174040859927e-07\n"
          ]
        }
      ],
      "source": [
        "# Test the sigmoid_forward function\n",
        "\n",
        "# Generate test input data\n",
        "x = np.linspace(-6, 6, num=12).reshape(3, 4)  # Input array shaped (3, 4)\n",
        "\n",
        "# Perform the forward pass using the sigmoid_forward function\n",
        "out, _ = sigmoid_forward(x)\n",
        "\n",
        "# Define the expected output for comparison\n",
        "correct_out = np.array([[0.00247262, 0.00732514, 0.0214955,  0.06138311],\n",
        "                        [0.16296047, 0.36691963, 0.63308037, 0.83703953],\n",
        "                        [0.93861689, 0.9785045,  0.99267486, 0.99752738]])\n",
        "\n",
        "# Calculate and print the difference between computed output and expected output\n",
        "# The error should ideally be around e-7 to confirm the correct implementation\n",
        "print('Testing sigmoid_forward function:')\n",
        "print('difference: ', rel_error(out, correct_out))\n"
      ]
    },
    {
      "cell_type": "markdown",
      "id": "9aa4e6a8",
      "metadata": {
        "id": "9aa4e6a8"
      },
      "source": [
        "# Sigmoid activation: backward\n",
        "Now implement the backward pass for the Sigmoid activation function in the `sigmoid_backward` function."
      ]
    },
    {
      "cell_type": "code",
      "execution_count": 14,
      "id": "fe527984",
      "metadata": {
        "id": "fe527984"
      },
      "outputs": [],
      "source": [
        "def sigmoid_backward(dout, cache):\n",
        "    \"\"\"\n",
        "    Performs the backward pass for a Sigmoid activation layer.\n",
        "\n",
        "    Parameters:\n",
        "    - dout: Gradient from the upstream layer, with the same shape as the input x\n",
        "    - cache: Cached input x from the forward pass, which has the same shape as dout\n",
        "\n",
        "    Returns:\n",
        "    - dx: Gradient of the loss with respect to x, calculated based on the\n",
        "          derivative of the Sigmoid function\n",
        "    \"\"\"\n",
        "    ###########################################################################\n",
        "    # Task: Implement the backward pass for the Sigmoid layer, computing the  #\n",
        "    # gradient dx based on the upstream gradient dout and the cached input x. #\n",
        "    ###########################################################################\n",
        "    # *****START OF YOUR CODE (DO NOT DELETE/MODIFY THIS LINE)*****\n",
        "\n",
        "    x = cache\n",
        "    sigma_x = 1 / (1 + np.exp(-x))\n",
        "    d_sigma = sigma_x * (1 - sigma_x)\n",
        "    dx = dout * d_sigma\n",
        "    return dx"
      ]
    },
    {
      "cell_type": "markdown",
      "id": "b5ec2570",
      "metadata": {
        "id": "b5ec2570"
      },
      "source": [
        "You can test your implementation using numeric gradient checking:"
      ]
    },
    {
      "cell_type": "code",
      "execution_count": 15,
      "id": "e06a7eef",
      "metadata": {
        "colab": {
          "base_uri": "https://localhost:8080/"
        },
        "id": "e06a7eef",
        "outputId": "6459a242-95c2-45d9-b9b5-1ce0d4f9602a"
      },
      "outputs": [
        {
          "output_type": "stream",
          "name": "stdout",
          "text": [
            "Testing sigmoid_backward function:\n",
            "dx error:  3.446520386706568e-11\n"
          ]
        }
      ],
      "source": [
        "# Test the sigmoid_backward function\n",
        "\n",
        "# Set a random seed for reproducibility\n",
        "np.random.seed(231)\n",
        "\n",
        "# Generate random test input and upstream gradient\n",
        "x = np.random.randn(10, 10)              # Input data shaped (10, 10)\n",
        "dout = np.random.randn(*x.shape)         # Upstream gradient with the same shape as x\n",
        "\n",
        "# Compute the numerical gradient for dx to validate the backward pass\n",
        "dx_num = eval_numerical_gradient_array(lambda x: sigmoid_forward(x)[0], x, dout)\n",
        "\n",
        "# Perform the forward pass to cache the input for use in the backward pass\n",
        "_, cache = sigmoid_forward(x)\n",
        "\n",
        "# Compute the analytical gradient using the sigmoid_backward function\n",
        "dx = sigmoid_backward(dout, cache)\n",
        "\n",
        "# Print the relative error between analytical and numerical gradients\n",
        "# The error should ideally be around e-11 to confirm accurate implementation\n",
        "print('Testing sigmoid_backward function:')\n",
        "print('dx error: ', rel_error(dx_num, dx))\n"
      ]
    },
    {
      "cell_type": "markdown",
      "id": "1eb8d7a7",
      "metadata": {
        "tags": [],
        "id": "1eb8d7a7"
      },
      "source": [
        "# \"Sandwich\" layers\n",
        "There are some common patterns of layers that are frequently used in neural nets. For example, affine layers are frequently followed by a ReLU nonlinearity. Implement the forward and backward pass for the affine layer followed by a ReLU nonlinearity in the `affine_relu_forward` and `affine_relu_backward` functions."
      ]
    },
    {
      "cell_type": "code",
      "execution_count": 16,
      "id": "7283bd3d",
      "metadata": {
        "id": "7283bd3d"
      },
      "outputs": [],
      "source": [
        "def affine_relu_forward(x, w, b):\n",
        "    \"\"\"\n",
        "    A convenience layer that performs an affine transformation followed by a ReLU activation.\n",
        "\n",
        "    Parameters:\n",
        "    - x: Input to the affine layer\n",
        "    - w, b: Weights and biases for the affine layer\n",
        "\n",
        "    Returns:\n",
        "    - out: Output after applying the affine transformation and ReLU activation\n",
        "    - cache: A cache object containing intermediate values needed for the backward pass\n",
        "    \"\"\"\n",
        "    ###########################################################################\n",
        "    # Task: Implement the forward pass for the affine-ReLU layer. First,      #\n",
        "    # apply the affine transformation, then apply the ReLU activation.        #\n",
        "    ###########################################################################\n",
        "    # *****START OF YOUR CODE (DO NOT DELETE/MODIFY THIS LINE)*****\n",
        "\n",
        "    z, fc_cache = affine_forward(x, w, b)\n",
        "    out, relu_cache = relu_forward(z)\n",
        "    cache = (fc_cache, relu_cache)\n",
        "    return out, cache\n"
      ]
    },
    {
      "cell_type": "code",
      "execution_count": 17,
      "id": "00e27852",
      "metadata": {
        "id": "00e27852"
      },
      "outputs": [],
      "source": [
        "def affine_relu_backward(dout, cache):\n",
        "    \"\"\"\n",
        "    Performs the backward pass for the affine-ReLU convenience layer.\n",
        "\n",
        "    Parameters:\n",
        "    - dout: Gradient from the upstream layer, with any shape\n",
        "    - cache: Tuple of (fc_cache, relu_cache) containing cached values from\n",
        "             the forward pass of both the affine and ReLU layers\n",
        "\n",
        "    Returns:\n",
        "    - dx: Gradient of the loss with respect to input x\n",
        "    - dw: Gradient of the loss with respect to weights w\n",
        "    - db: Gradient of the loss with respect to biases b\n",
        "    \"\"\"\n",
        "    ###########################################################################\n",
        "    # Task: Implement the backward pass for the affine-ReLU layer by first    #\n",
        "    # performing the backward pass through the ReLU, then through the affine. #\n",
        "    ###########################################################################\n",
        "    # *****START OF YOUR CODE (DO NOT DELETE/MODIFY THIS LINE)*****\n",
        "\n",
        "    fc_cache, relu_cache = cache\n",
        "    dz = relu_backward(dout, relu_cache)\n",
        "    dx, dw, db = affine_backward(dz, fc_cache)\n",
        "    return dx, dw, db\n"
      ]
    },
    {
      "cell_type": "markdown",
      "id": "ccdd0b18",
      "metadata": {
        "id": "ccdd0b18"
      },
      "source": [
        "You can test your implementation using numeric gradient checking:"
      ]
    },
    {
      "cell_type": "code",
      "execution_count": 18,
      "id": "d53fb1c9",
      "metadata": {
        "colab": {
          "base_uri": "https://localhost:8080/"
        },
        "id": "d53fb1c9",
        "outputId": "afe379a1-42bb-41a5-d312-06c3c8d913ff"
      },
      "outputs": [
        {
          "output_type": "stream",
          "name": "stdout",
          "text": [
            "Testing affine_relu_forward and affine_relu_backward:\n",
            "dx error:  2.299579177309368e-11\n",
            "dw error:  8.162011105764925e-11\n",
            "db error:  7.826724021458994e-12\n"
          ]
        }
      ],
      "source": [
        "# Test the affine_relu_backward function\n",
        "\n",
        "# Set a random seed for reproducibility\n",
        "np.random.seed(231)\n",
        "\n",
        "# Generate random test inputs and upstream gradient\n",
        "x = np.random.randn(2, 3, 4)             # Input data shaped (2, 3, 4)\n",
        "w = np.random.randn(12, 10)              # Weights with shape (12, 10)\n",
        "b = np.random.randn(10)                  # Biases with shape (10)\n",
        "dout = np.random.randn(2, 10)            # Upstream gradient with shape (2, 10)\n",
        "\n",
        "# Perform forward pass for the affine-ReLU layer and cache results\n",
        "out, cache = affine_relu_forward(x, w, b)\n",
        "\n",
        "# Compute the gradients analytically using the affine_relu_backward function\n",
        "dx, dw, db = affine_relu_backward(dout, cache)\n",
        "\n",
        "# Compute numerical gradients for dx, dw, and db to validate the backward pass\n",
        "dx_num = eval_numerical_gradient_array(lambda x: affine_relu_forward(x, w, b)[0], x, dout)\n",
        "dw_num = eval_numerical_gradient_array(lambda w: affine_relu_forward(x, w, b)[0], w, dout)\n",
        "db_num = eval_numerical_gradient_array(lambda b: affine_relu_forward(x, w, b)[0], b, dout)\n",
        "\n",
        "# Print the relative error between analytical and numerical gradients\n",
        "# Errors should be around e-10 or less for a correct implementation\n",
        "print('Testing affine_relu_forward and affine_relu_backward:')\n",
        "print('dx error: ', rel_error(dx_num, dx))  # Check error for gradient dx\n",
        "print('dw error: ', rel_error(dw_num, dw))  # Check error for gradient dw\n",
        "print('db error: ', rel_error(db_num, db))  # Check error for gradient db\n"
      ]
    },
    {
      "cell_type": "markdown",
      "id": "0bd6b07f",
      "metadata": {
        "id": "0bd6b07f"
      },
      "source": [
        "# Batch Normalization: Forward Pass\n",
        "Implement the batch normalization forward pass in the function `batchnorm_forward`."
      ]
    },
    {
      "cell_type": "code",
      "execution_count": 19,
      "id": "7ae14e5d",
      "metadata": {
        "id": "7ae14e5d"
      },
      "outputs": [],
      "source": [
        "def batchnorm_forward(x, gamma, beta, bn_param):\n",
        "    \"\"\"\n",
        "    Performs the forward pass for batch normalization.\n",
        "\n",
        "    During training, computes the mean and variance from minibatch statistics\n",
        "    to normalize the data. During test-time, it uses running averages of mean\n",
        "    and variance for normalization. Running averages are updated during training\n",
        "    using exponential decay with the momentum parameter.\n",
        "\n",
        "    running_mean = momentum * running_mean + (1 - momentum) * sample_mean\n",
        "    running_var = momentum * running_var + (1 - momentum) * sample_var\n",
        "\n",
        "    Parameters:\n",
        "    - x: Input data of shape (N, D), where N is the batch size and D is the feature dimension\n",
        "    - gamma: Scale parameter of shape (D,)\n",
        "    - beta: Shift parameter of shape (D,)\n",
        "    - bn_param: Dictionary with the following keys:\n",
        "      - mode: 'train' or 'test'\n",
        "      - eps: Small constant for numerical stability (default is 1e-5)\n",
        "      - momentum: Decay rate for running mean/variance (default is 0.9)\n",
        "      - running_mean: Array of shape (D,) for running mean of features\n",
        "      - running_var: Array of shape (D,) for running variance of features\n",
        "\n",
        "    Returns:\n",
        "    - out: Normalized output of shape (N, D)\n",
        "    - cache: Tuple of values needed for the backward pass\n",
        "    \"\"\"\n",
        "    mode = bn_param[\"mode\"]\n",
        "    eps = bn_param.get(\"eps\", 1e-5)\n",
        "    momentum = bn_param.get(\"momentum\", 0.9)\n",
        "\n",
        "    N, D = x.shape\n",
        "    running_mean = bn_param.get(\"running_mean\", np.zeros(D, dtype=x.dtype))\n",
        "    running_var = bn_param.get(\"running_var\", np.zeros(D, dtype=x.dtype))\n",
        "\n",
        "    out, cache = None, None\n",
        "    if mode == \"train\":\n",
        "        #######################################################################\n",
        "        # Training-time batch normalization:                                 #\n",
        "        # 1. Compute minibatch mean and variance                             #\n",
        "        # 2. Normalize data using the minibatch statistics                   #\n",
        "        # 3. Scale and shift normalized data with gamma and beta             #\n",
        "        # 4. Update running mean and variance                                #\n",
        "        #######################################################################\n",
        "        # *****START OF YOUR CODE (DO NOT DELETE/MODIFY THIS LINE)*****\n",
        "\n",
        "        sample_mean = np.mean(x, axis = 0)\n",
        "        sample_var = np.var(x, axis = 0)\n",
        "        x_normalized = (x - sample_mean) / np.sqrt(sample_var + eps)\n",
        "\n",
        "        out = gamma * x_normalized + beta\n",
        "\n",
        "        running_mean = momentum * running_mean + (1 - momentum) * sample_mean\n",
        "        running_var = momentum * running_var + (1 - momentum) * sample_var\n",
        "\n",
        "        cache = (x, x_normalized, sample_mean, sample_var, gamma, beta, eps)\n",
        "        # *****END OF YOUR CODE (DO NOT DELETE/MODIFY THIS LINE)*****\n",
        "    elif mode == \"test\":\n",
        "        #######################################################################\n",
        "        # Test-time batch normalization:                                     #\n",
        "        # Use running mean and variance to normalize, then scale and shift   #\n",
        "        # with gamma and beta.                                               #\n",
        "        #######################################################################\n",
        "        # *****START OF YOUR CODE (DO NOT DELETE/MODIFY THIS LINE)*****\n",
        "\n",
        "        x_normalized = (x - running_mean) / np.sqrt(running_var + eps)\n",
        "        out = gamma * x_normalized + beta\n",
        "        cache = (x, x_normalized, running_mean, running_var, gamma, beta, eps)\n",
        "        # *****END OF YOUR CODE (DO NOT DELETE/MODIFY THIS LINE)*****\n",
        "    else:\n",
        "        raise ValueError('Invalid forward batchnorm mode \"%s\"' % mode)\n",
        "\n",
        "    # Store the updated running means back into bn_param\n",
        "    bn_param[\"running_mean\"] = running_mean\n",
        "    bn_param[\"running_var\"] = running_var\n",
        "\n",
        "    return out, cache\n"
      ]
    },
    {
      "cell_type": "markdown",
      "id": "54b94ccd",
      "metadata": {
        "id": "54b94ccd"
      },
      "source": [
        "Run the following to test your implementation."
      ]
    },
    {
      "cell_type": "code",
      "execution_count": 20,
      "id": "71831d47",
      "metadata": {
        "colab": {
          "base_uri": "https://localhost:8080/"
        },
        "id": "71831d47",
        "outputId": "d6d7276c-b244-4959-fdee-acb2d1beb1a1"
      },
      "outputs": [
        {
          "output_type": "stream",
          "name": "stdout",
          "text": [
            "Before batch normalization:\n",
            "  means: [ -2.3814598  -13.18038246   1.91780462]\n",
            "  stds:  [27.18502186 34.21455511 37.68611762]\n",
            "\n",
            "After batch normalization (gamma=1, beta=0)\n",
            "  means: [5.32907052e-17 7.04991621e-17 1.85962357e-17]\n",
            "  stds:  [0.99999999 1.         1.        ]\n",
            "\n",
            "After batch normalization (gamma= [1. 2. 3.] , beta= [11. 12. 13.] )\n",
            "  means: [11. 12. 13.]\n",
            "  stds:  [0.99999999 1.99999999 2.99999999]\n",
            "\n"
          ]
        }
      ],
      "source": [
        "# Check the training-time forward pass by checking means and variances\n",
        "# of features both before and after batch normalization\n",
        "\n",
        "# Simulate the forward pass for a two-layer network.\n",
        "np.random.seed(231)\n",
        "N, D1, D2, D3 = 200, 50, 60, 3\n",
        "X = np.random.randn(N, D1)\n",
        "W1 = np.random.randn(D1, D2)\n",
        "W2 = np.random.randn(D2, D3)\n",
        "a = np.maximum(0, X.dot(W1)).dot(W2)\n",
        "\n",
        "print('Before batch normalization:')\n",
        "print_mean_std(a,axis=0)\n",
        "\n",
        "gamma = np.ones((D3,))\n",
        "beta = np.zeros((D3,))\n",
        "\n",
        "# Means should be close to zero and stds close to one.\n",
        "print('After batch normalization (gamma=1, beta=0)')\n",
        "a_norm, _ = batchnorm_forward(a, gamma, beta, {'mode': 'train'})\n",
        "print_mean_std(a_norm,axis=0)\n",
        "\n",
        "gamma = np.asarray([1.0, 2.0, 3.0])\n",
        "beta = np.asarray([11.0, 12.0, 13.0])\n",
        "\n",
        "# Now means should be close to beta and stds close to gamma.\n",
        "print('After batch normalization (gamma=', gamma, ', beta=', beta, ')')\n",
        "a_norm, _ = batchnorm_forward(a, gamma, beta, {'mode': 'train'})\n",
        "print_mean_std(a_norm,axis=0)"
      ]
    },
    {
      "cell_type": "code",
      "execution_count": 21,
      "id": "d89dca02",
      "metadata": {
        "colab": {
          "base_uri": "https://localhost:8080/"
        },
        "id": "d89dca02",
        "outputId": "af63331d-19bd-4ae4-f060-c30d62aa1846"
      },
      "outputs": [
        {
          "output_type": "stream",
          "name": "stdout",
          "text": [
            "Before batch normalization:\n",
            "  means: [ -2.3814598  -13.18038246   1.91780462]\n",
            "  stds:  [27.18502186 34.21455511 37.68611762]\n",
            "\n",
            "After batch normalization (gamma=1, beta=0)\n",
            "  means: [5.32907052e-17 7.04991621e-17 1.85962357e-17]\n",
            "  stds:  [0.99999999 1.         1.        ]\n",
            "\n",
            "After batch normalization (gamma= [1. 2. 3.] , beta= [11. 12. 13.] )\n",
            "  means: [11. 12. 13.]\n",
            "  stds:  [0.99999999 1.99999999 2.99999999]\n",
            "\n"
          ]
        }
      ],
      "source": [
        "# Check the training-time forward pass by examining the means and variances\n",
        "# of features both before and after batch normalization\n",
        "\n",
        "# Simulate the forward pass for a two-layer network\n",
        "np.random.seed(231)\n",
        "N, D1, D2, D3 = 200, 50, 60, 3        # Set the dimensions of the layers\n",
        "X = np.random.randn(N, D1)             # Generate random input data\n",
        "W1 = np.random.randn(D1, D2)           # Random weights for first layer\n",
        "W2 = np.random.randn(D2, D3)           # Random weights for second layer\n",
        "\n",
        "# Compute the output of a two-layer network before batch normalization\n",
        "a = np.maximum(0, X.dot(W1)).dot(W2)   # Apply ReLU and second layer dot product\n",
        "\n",
        "print('Before batch normalization:')\n",
        "print_mean_std(a, axis=0)              # Print the mean and std of features across samples\n",
        "\n",
        "# Define gamma and beta for standard batch normalization\n",
        "gamma = np.ones((D3,))                 # Scale parameter (gamma) initialized to 1\n",
        "beta = np.zeros((D3,))                 # Shift parameter (beta) initialized to 0\n",
        "\n",
        "# Apply batch normalization with gamma=1 and beta=0\n",
        "print('After batch normalization (gamma=1, beta=0)')\n",
        "a_norm, _ = batchnorm_forward(a, gamma, beta, {'mode': 'train'})\n",
        "print_mean_std(a_norm, axis=0)         # Means should be close to zero, stds close to one\n",
        "\n",
        "# Define gamma and beta with different values\n",
        "gamma = np.asarray([1.0, 2.0, 3.0])    # Scale parameter set differently for each feature\n",
        "beta = np.asarray([11.0, 12.0, 13.0])  # Shift parameter set differently for each feature\n",
        "\n",
        "# Apply batch normalization with custom gamma and beta\n",
        "print('After batch normalization (gamma=', gamma, ', beta=', beta, ')')\n",
        "a_norm, _ = batchnorm_forward(a, gamma, beta, {'mode': 'train'})\n",
        "print_mean_std(a_norm, axis=0)         # Means should be close to beta, stds close to gamma\n"
      ]
    },
    {
      "cell_type": "markdown",
      "id": "06afd7ac",
      "metadata": {
        "id": "06afd7ac"
      },
      "source": [
        "# Batch Normalization: Backward Pass\n",
        "Now implement the backward pass for batch normalization in the function batchnorm_backward.\n",
        "\n",
        "In the forward pass, given a set of inputs $X=\\begin{bmatrix}x_1\\\\x_2\\\\...\\\\x_N\\end{bmatrix}$,\n",
        "\n",
        "we first calculate the mean $\\mu$ and variance $var$.\n",
        "With $\\mu$ and $var$ calculated, we can calculate the standard deviation $\\sigma$  and normalized data $Y$.\n",
        "The equations and graph illustration below describe the computation ($y_i$ is the i-th element of the vector $Y$).\n",
        "\n",
        "\\begin{align}\n",
        "& \\mu=\\frac{1}{N}\\sum_{k=1}^N x_k  &  var=\\frac{1}{N}\\sum_{k=1}^N (x_k-\\mu)^2 \\\\\n",
        "& \\sigma=\\sqrt{v+\\epsilon}         &  y_i=\\frac{x_i-\\mu}{\\sigma}\n",
        "\\end{align}"
      ]
    },
    {
      "cell_type": "markdown",
      "id": "462af44e",
      "metadata": {
        "id": "462af44e"
      },
      "source": [
        "You should make sure each of the intermediary gradient derivations are all as simplified as possible, for ease of implementation."
      ]
    },
    {
      "cell_type": "code",
      "execution_count": 22,
      "id": "07b2bf8c",
      "metadata": {
        "id": "07b2bf8c"
      },
      "outputs": [],
      "source": [
        "def batchnorm_backward(dout, cache):\n",
        "    \"\"\"\n",
        "    Performs the backward pass for batch normalization.\n",
        "\n",
        "    Inputs:\n",
        "    - dout: Upstream gradient from the next layer, with shape (N, D)\n",
        "    - cache: Tuple containing intermediate variables from the forward pass\n",
        "             of batch normalization (stored for use in backpropagation)\n",
        "\n",
        "    Returns:\n",
        "    - dx: Gradient of the loss with respect to input x, of shape (N, D)\n",
        "    - dgamma: Gradient of the loss with respect to the scale parameter gamma, of shape (D,)\n",
        "    - dbeta: Gradient of the loss with respect to the shift parameter beta, of shape (D,)\n",
        "    \"\"\"\n",
        "    ###########################################################################\n",
        "    # Task: Implement the backward pass for batch normalization. Calculate    #\n",
        "    # gradients dx, dgamma, and dbeta using chain rule propagation through    #\n",
        "    # intermediate variables in the cache.                                    #\n",
        "    ###########################################################################\n",
        "    # *****START OF YOUR CODE (DO NOT DELETE/MODIFY THIS LINE)*****\n",
        "\n",
        "    N, D = dout.shape\n",
        "    x, x_normalized, sample_mean, sample_var, gamma, beta, eps = cache\n",
        "    dx_normalized = dout * gamma\n",
        "\n",
        "    dvar = np.sum(dx_normalized * (x - sample_mean) * -0.5 * (sample_var + eps)**(-3/2), axis=0)\n",
        "    dmean = np.sum(dx_normalized * -1 / np.sqrt(sample_var + eps), axis=0) + dvar * np.sum(-2 * (x - sample_mean), axis=0) / N\n",
        "\n",
        "    # Step 4: Backprop through input\n",
        "    dx = dx_normalized / np.sqrt(sample_var + eps) + dvar * 2 * (x - sample_mean) / N + dmean / N\n",
        "\n",
        "    dgamma = np.sum(dout * x_normalized, axis = 0)\n",
        "    dbeta = np.sum(dout, axis = 0)\n",
        "    return dx, dgamma, dbeta\n"
      ]
    },
    {
      "cell_type": "markdown",
      "id": "d6891d0a",
      "metadata": {
        "id": "d6891d0a"
      },
      "source": [
        "Run the following to numerically check your backward pass."
      ]
    },
    {
      "cell_type": "code",
      "execution_count": 23,
      "id": "e615e6b0",
      "metadata": {
        "colab": {
          "base_uri": "https://localhost:8080/"
        },
        "id": "e615e6b0",
        "outputId": "b73aeb09-5a9c-4878-8ff3-380abee74d18"
      },
      "outputs": [
        {
          "output_type": "stream",
          "name": "stdout",
          "text": [
            "dx error:  1.7029261167605239e-09\n",
            "dgamma error:  7.420414216247087e-13\n",
            "dbeta error:  2.8795057655839487e-12\n"
          ]
        }
      ],
      "source": [
        "# Gradient check for batch normalization backward pass\n",
        "\n",
        "# Set random seed for reproducibility\n",
        "np.random.seed(231)\n",
        "\n",
        "# Define dimensions and generate random input data, scale, and shift parameters\n",
        "N, D = 4, 5                            # Number of samples and feature dimensions\n",
        "x = 5 * np.random.randn(N, D) + 12     # Random input data centered around 12\n",
        "gamma = np.random.randn(D)             # Random scale parameter\n",
        "beta = np.random.randn(D)              # Random shift parameter\n",
        "dout = np.random.randn(N, D)           # Upstream gradient with same shape as x\n",
        "\n",
        "# Set batch normalization parameters to training mode\n",
        "bn_param = {'mode': 'train'}\n",
        "\n",
        "# Define functions for numerical gradient checking\n",
        "fx = lambda x: batchnorm_forward(x, gamma, beta, bn_param)[0]\n",
        "fg = lambda a: batchnorm_forward(x, a, beta, bn_param)[0]\n",
        "fb = lambda b: batchnorm_forward(x, gamma, b, bn_param)[0]\n",
        "\n",
        "# Calculate numerical gradients for dx, dgamma, and dbeta\n",
        "dx_num = eval_numerical_gradient_array(fx, x, dout)\n",
        "da_num = eval_numerical_gradient_array(fg, gamma.copy(), dout)\n",
        "db_num = eval_numerical_gradient_array(fb, beta.copy(), dout)\n",
        "\n",
        "# Perform forward pass to obtain cache for the backward pass\n",
        "_, cache = batchnorm_forward(x, gamma, beta, bn_param)\n",
        "\n",
        "# Compute analytical gradients using the batchnorm_backward function\n",
        "dx, dgamma, dbeta = batchnorm_backward(dout, cache)\n",
        "\n",
        "# Print relative errors between numerical and analytical gradients\n",
        "# Expected relative errors should be between 1e-13 and 1e-8 for accuracy\n",
        "print('dx error: ', rel_error(dx_num, dx))       # Check error for dx\n",
        "print('dgamma error: ', rel_error(da_num, dgamma))  # Check error for dgamma\n",
        "print('dbeta error: ', rel_error(db_num, dbeta))    # Check error for dbeta\n"
      ]
    },
    {
      "cell_type": "markdown",
      "id": "a9227f7e",
      "metadata": {
        "id": "a9227f7e"
      },
      "source": [
        "# Loss layer: Softmax\n",
        "Now implement the loss and gradient for softmax in the `softmax_loss` function."
      ]
    },
    {
      "cell_type": "code",
      "execution_count": 24,
      "id": "e99a83c5",
      "metadata": {
        "id": "e99a83c5"
      },
      "outputs": [],
      "source": [
        "def softmax_loss(x, y):\n",
        "    \"\"\"\n",
        "    Computes the loss and gradient for softmax classification.\n",
        "\n",
        "    Parameters:\n",
        "    - x: Input data of shape (N, C), where x[i, j] is the score for the jth\n",
        "         class for the ith input.\n",
        "    - y: Vector of labels with shape (N,), where y[i] is the label for x[i] and\n",
        "         0 <= y[i] < C (C is the number of classes)\n",
        "\n",
        "    Returns:\n",
        "    - loss: Scalar value representing the softmax loss\n",
        "    - dx: Gradient of the loss with respect to x, of the same shape as x\n",
        "    \"\"\"\n",
        "    ###########################################################################\n",
        "    # Task: Implement the softmax loss function, which includes calculating   #\n",
        "    # both the loss and the gradient. The function should return the scalar   #\n",
        "    # loss and the gradient dx.                                               #\n",
        "    ###########################################################################\n",
        "    # *****START OF YOUR CODE (DO NOT DELETE/MODIFY THIS LINE)*****\n",
        "    N = x.shape[0]\n",
        "    shifted_x = x - np.max(x, axis = 1, keepdims= True)\n",
        "    probs = np.exp(shifted_x) / np.sum(np.exp(shifted_x), axis = 1, keepdims= True)\n",
        "\n",
        "    loss = -np.sum(np.log(probs[np.arange(N), y])) / N\n",
        "    dx = probs.copy()\n",
        "    dx[np.arange(N), y] -= 1\n",
        "    dx /= N\n",
        "\n",
        "    return loss, dx\n"
      ]
    },
    {
      "cell_type": "markdown",
      "id": "afee8350",
      "metadata": {
        "id": "afee8350"
      },
      "source": [
        "You can make sure that the implementations are correct by running the following:"
      ]
    },
    {
      "cell_type": "code",
      "execution_count": 25,
      "id": "ca558e12",
      "metadata": {
        "colab": {
          "base_uri": "https://localhost:8080/"
        },
        "id": "ca558e12",
        "outputId": "088ab9ef-832d-4365-a446-fecc065e643d"
      },
      "outputs": [
        {
          "output_type": "stream",
          "name": "stdout",
          "text": [
            "\n",
            "Testing softmax_loss:\n",
            "loss:  2.3025458445007376\n",
            "dx error:  8.234144091578429e-09\n"
          ]
        }
      ],
      "source": [
        "# Test the softmax_loss function\n",
        "\n",
        "# Set random seed for reproducibility\n",
        "np.random.seed(231)\n",
        "\n",
        "# Generate random inputs and labels\n",
        "num_classes, num_inputs = 10, 50           # Number of classes and number of inputs\n",
        "x = 0.001 * np.random.randn(num_inputs, num_classes)  # Small random scores\n",
        "y = np.random.randint(num_classes, size=num_inputs)   # Random labels\n",
        "\n",
        "# Compute the numerical gradient for dx to validate the backward pass\n",
        "dx_num = eval_numerical_gradient(lambda x: softmax_loss(x, y)[0], x, verbose=False)\n",
        "\n",
        "# Compute the softmax loss and the analytical gradient\n",
        "loss, dx = softmax_loss(x, y)\n",
        "\n",
        "# Print the computed loss and the relative error between numerical and analytical gradients\n",
        "# The loss should be close to 2.3, and dx error should ideally be around e-8\n",
        "print('\\nTesting softmax_loss:')\n",
        "print('loss: ', loss)                     # Expected loss around 2.3\n",
        "print('dx error: ', rel_error(dx_num, dx))  # Check error for dx, expected to be around e-8\n"
      ]
    },
    {
      "cell_type": "markdown",
      "id": "31d4492a",
      "metadata": {
        "id": "31d4492a"
      },
      "source": [
        "# Loss layer: MSE\n",
        "Now implement the loss and gradient for mean squared error in the `mse_loss` function."
      ]
    },
    {
      "cell_type": "code",
      "execution_count": 26,
      "id": "92f5cdd9",
      "metadata": {
        "id": "92f5cdd9"
      },
      "outputs": [],
      "source": [
        "def mse_loss(x, y):\n",
        "    \"\"\"\n",
        "    Computes the Mean Squared Error (MSE) loss and its gradient.\n",
        "\n",
        "    Parameters:\n",
        "    - x: Predicted values, a numpy array of shape (N,), where x[i] is the prediction for the ith input.\n",
        "    - y: Target values, a numpy array of shape (N,), where y[i] is the target value for the ith input.\n",
        "\n",
        "    Returns:\n",
        "    - loss: Scalar value representing the MSE loss\n",
        "    - dx: Gradient of the loss with respect to x, of the same shape as x\n",
        "    \"\"\"\n",
        "    ###########################################################################\n",
        "    # Task: Implement the MSE loss function, which includes calculating both  #\n",
        "    # the loss (mean squared error) and its gradient with respect to x.       #\n",
        "    ###########################################################################\n",
        "    # *****START OF YOUR CODE (DO NOT DELETE/MODIFY THIS LINE)*****\n",
        "\n",
        "    N = x.shape[0]\n",
        "    MSE = np.sum((x - y) ** 2) / N\n",
        "\n",
        "    # Step 2: Compute the gradient\n",
        "    dx = 2 * (x - y) / N\n",
        "    return MSE, dx"
      ]
    },
    {
      "cell_type": "markdown",
      "id": "55b5b9db",
      "metadata": {
        "id": "55b5b9db"
      },
      "source": [
        "You can make sure that the implementations are correct by running the following:"
      ]
    },
    {
      "cell_type": "code",
      "execution_count": 27,
      "id": "0e850132",
      "metadata": {
        "colab": {
          "base_uri": "https://localhost:8080/"
        },
        "id": "0e850132",
        "outputId": "63520140-0542-46a4-88f8-0e2cf9052b3e"
      },
      "outputs": [
        {
          "output_type": "stream",
          "name": "stdout",
          "text": [
            "\n",
            "Testing mse_loss:\n",
            "loss:  1.8672282748726519\n",
            "dx error:  2.8607953262121067e-09\n"
          ]
        }
      ],
      "source": [
        "# Test the mse_loss function\n",
        "\n",
        "# Set random seed for reproducibility\n",
        "np.random.seed(231)\n",
        "\n",
        "# Generate random inputs and target values\n",
        "num_inputs = 50                      # Number of inputs\n",
        "x = np.random.randn(num_inputs)      # Predicted values\n",
        "y = np.random.randn(num_inputs)      # Target values\n",
        "\n",
        "# Compute the numerical gradient for dx to validate the backward pass\n",
        "dx_num = eval_numerical_gradient(lambda x: mse_loss(x, y)[0], x, verbose=False)\n",
        "\n",
        "# Compute the MSE loss and the analytical gradient\n",
        "loss, dx = mse_loss(x, y)\n",
        "\n",
        "# Print the computed loss and the relative error between numerical and analytical gradients\n",
        "# The loss should be close to 1.9, and dx error should ideally be around e-9\n",
        "print('\\nTesting mse_loss:')\n",
        "print('loss: ', loss)                     # Expected loss around 1.9\n",
        "print('dx error: ', rel_error(dx_num, dx))  # Check error for dx, expected to be around e-9\n"
      ]
    },
    {
      "cell_type": "markdown",
      "id": "71a7bb75",
      "metadata": {
        "id": "71a7bb75"
      },
      "source": [
        "# Multi-Layer Fully Connected Network\n",
        "In this part, you will implement a fully connected network with an arbitrary number of hidden layers."
      ]
    },
    {
      "cell_type": "code",
      "execution_count": 56,
      "id": "ffd460d2",
      "metadata": {
        "id": "ffd460d2"
      },
      "outputs": [],
      "source": [
        "class FullyConnectedNet(object):\n",
        "    \"\"\"\n",
        "    Class for a multi-layer fully connected neural network.\n",
        "\n",
        "    This network can handle an arbitrary number of hidden layers, with ReLU nonlinearities,\n",
        "    and a softmax loss function for classification or an MSE loss function for regression.\n",
        "    Batch normalization can be included as an option. For a network with L layers, the\n",
        "    architecture follows:\n",
        "\n",
        "    {affine - [batchnorm] - relu} x (L - 1) - affine - softmax/mse\n",
        "\n",
        "    where batch normalization is optional in each layer and the {...} block repeats L - 1 times.\n",
        "\n",
        "    Learnable parameters are stored in the self.params dictionary and optimized using the Solver class.\n",
        "    \"\"\"\n",
        "\n",
        "    def __init__(\n",
        "        self,\n",
        "        category,\n",
        "        hidden_dims,\n",
        "        normalization,\n",
        "        input_dim=784,\n",
        "        output_dim=10,\n",
        "        reg=0.0,\n",
        "        weight_scale=1e-2,\n",
        "        dtype=np.float32,\n",
        "    ):\n",
        "        \"\"\"\n",
        "        Initialize a new FullyConnectedNet.\n",
        "\n",
        "        Parameters:\n",
        "        - category: Type of problem (\"classification\" or \"regression\")\n",
        "        - hidden_dims: List of integers specifying the size of each hidden layer\n",
        "        - normalization: List of booleans indicating batch normalization in each layer\n",
        "        - input_dim: Size of the input (default 784 for images with 28x28 pixels)\n",
        "        - output_dim: Number of classes for classification or 1 for regression\n",
        "        - reg: L2 regularization strength\n",
        "        - weight_scale: Standard deviation for initializing weights\n",
        "        - dtype: Numpy data type for computations (float32 for speed, float64 for gradient checking)\n",
        "        \"\"\"\n",
        "        self.category = category\n",
        "        self.normalization = normalization\n",
        "        self.reg = reg\n",
        "        self.num_layers = 1 + len(hidden_dims)\n",
        "        self.dtype = dtype\n",
        "        self.params = {}\n",
        "\n",
        "        ########################################################################\n",
        "        # Initialize the parameters of the network. Store weights and biases   #\n",
        "        # for each layer in self.params dictionary using keys W1, b1 for      #\n",
        "        # first layer, W2, b2 for second layer, and so on.                    #\n",
        "        # - Weights are initialized with a standard deviation of weight_scale #\n",
        "        # - Biases are initialized to zero                                    #\n",
        "        # - If using batch normalization, store scale (gamma) and shift       #\n",
        "        #   (beta) parameters, initialized to ones and zeros respectively     #\n",
        "        ########################################################################\n",
        "        # *****START OF YOUR CODE (DO NOT DELETE/MODIFY THIS LINE)*****\n",
        "        layer_input_dim = input_dim\n",
        "        for i, hidden_dim in enumerate(hidden_dims):\n",
        "          self.params[f'W{i+1}'] = np.random.randn(layer_input_dim, hidden_dim) * weight_scale\n",
        "          self.params[f'b{i+1}'] = np.zeros(hidden_dim)\n",
        "          if self.normalization[i]:\n",
        "            self.params[f'gamma{i+1}'] = np.ones(hidden_dim)\n",
        "            self.params[f'beta{i+1}'] = np.zeros(hidden_dim)\n",
        "          layer_input_dim = hidden_dim\n",
        "\n",
        "        self.params[f'W{self.num_layers}'] = np.random.randn(layer_input_dim, output_dim) * weight_scale\n",
        "        self.params[f'b{self.num_layers}'] = np.zeros(output_dim)\n",
        "        # *****END OF YOUR CODE (DO NOT DELETE/MODIFY THIS LINE)*****\n",
        "        ########################################################################\n",
        "        #                          END OF YOUR CODE                           #\n",
        "        ########################################################################\n",
        "\n",
        "        # For batch normalization, we keep track of running means and variances.\n",
        "        # Pass self.bn_params[0] to the first batch normalization layer,\n",
        "        # self.bn_params[1] to the second, and so on.\n",
        "        self.bn_params = [{\"mode\": \"train\"} for i in range(self.num_layers - 1)]\n",
        "\n",
        "        # Cast all parameters to the correct data type\n",
        "        for k, v in self.params.items():\n",
        "            self.params[k] = v.astype(dtype)\n",
        "\n",
        "    def loss(self, X, y=None):\n",
        "        \"\"\"\n",
        "        Compute loss and gradient for the fully connected network.\n",
        "\n",
        "        Parameters:\n",
        "        - X: Input data array of shape (N, d_1, ..., d_k)\n",
        "        - y: Labels/target values array of shape (N,), with y[i] giving the\n",
        "             label/target for X[i]\n",
        "\n",
        "        Returns:\n",
        "        If y is None, run a test-time forward pass and return scores for\n",
        "        classification or predicted values for regression:\n",
        "        - out: Array of shape (N, C) or (N,) with classification scores or predictions\n",
        "\n",
        "        If y is provided, run a training-time forward and backward pass:\n",
        "        - loss: Scalar loss value\n",
        "        - grads: Dictionary mapping parameter names to gradients for each parameter\n",
        "        \"\"\"\n",
        "        X = X.astype(self.dtype)\n",
        "        mode = \"test\" if y is None else \"train\"\n",
        "\n",
        "        # Set mode for batch normalization parameters\n",
        "        for bn_param in self.bn_params:\n",
        "            bn_param[\"mode\"] = mode\n",
        "\n",
        "        ########################################################################\n",
        "        # Implement the forward pass, computing the class scores or target     #\n",
        "        # values for X and storing them in out.                               #\n",
        "        # If using batch normalization, pass self.bn_params[0] for the first   #\n",
        "        # layer, self.bn_params[1] for the second, and so on.                 #\n",
        "        ########################################################################\n",
        "        # *****START OF YOUR CODE (DO NOT DELETE/MODIFY THIS LINE)*****\n",
        "        caches = []\n",
        "        out = X\n",
        "        for i in range(1, self.num_layers):\n",
        "          W,b = self.params[f'W{i}'], self.params[f'b{i}']\n",
        "          out, fc_cache = affine_forward(out, W, b)\n",
        "          if self.normalization[i - 1]:\n",
        "            gamma, beta = self.params[f'gamma{i}'], self.params[f'beta{i}']\n",
        "            out, bn_cache = batchnorm_forward(out, gamma, beta, self.bn_params[i - 1])\n",
        "            fc_cache = (fc_cache, bn_cache)\n",
        "\n",
        "          out, relu_cache = relu_forward(out)\n",
        "          caches.append((fc_cache, relu_cache))\n",
        "\n",
        "        W,b = self.params[f'W{self.num_layers}'], self.params[f'b{self.num_layers}']\n",
        "        out, fc_cache = affine_forward(out, W, b)\n",
        "        caches.append(fc_cache)\n",
        "\n",
        "\n",
        "\n",
        "        # *****END OF YOUR CODE (DO NOT DELETE/MODIFY THIS LINE)*****\n",
        "        ########################################################################\n",
        "        #                          END OF YOUR CODE                           #\n",
        "        ########################################################################\n",
        "\n",
        "        # If test mode, return early\n",
        "        if mode == \"test\":\n",
        "            return out\n",
        "\n",
        "        loss, grads = 0.0, {}\n",
        "        ########################################################################\n",
        "        # Implement the backward pass. Store the loss in loss and gradients    #\n",
        "        # in grads. Compute data loss using softmax/mse, and ensure that grads #\n",
        "        # includes gradients for all parameters in self.params. Don't forget   #\n",
        "        # to add L2 regularization.                                            #\n",
        "        # - For batch normalization, gradients for scale and shift do not      #\n",
        "        #   require regularization.                                            #\n",
        "        # - For consistency, include a factor of 0.5 in L2 regularization.     #\n",
        "        ########################################################################\n",
        "        # *****START OF YOUR CODE (DO NOT DELETE/MODIFY THIS LINE)*****\n",
        "        if self.category == \"classification\":\n",
        "            loss, dout = softmax_loss(out, y)\n",
        "        elif self.category == \"regression\":\n",
        "            loss, dout = mse_loss(out, y)\n",
        "\n",
        "        for i in range(1, self.num_layers + 1):\n",
        "            W = self.params[f'W{i}']\n",
        "            loss += 0.5 * self.reg * np.sum(W**2)\n",
        "\n",
        "        for i in range(self.num_layers, 0, -1):\n",
        "            if i == self.num_layers:\n",
        "              dout, dW, db = affine_backward(dout, caches.pop())\n",
        "            else:\n",
        "              fc_cache, relu_cache = caches.pop()\n",
        "              dout = relu_backward(dout, relu_cache)\n",
        "              if self.normalization[i - 1]:\n",
        "                fc_cache, bn_cache = fc_cache\n",
        "                dout, dgamma, dbeta = batchnorm_backward(dout, bn_cache)\n",
        "                grads[f'gamma{i}'] = dgamma\n",
        "                grads[f'beta{i}'] = dbeta\n",
        "              dout, dW, db = affine_backward(dout, fc_cache)\n",
        "\n",
        "            W = self.params[f'W{i}']\n",
        "            dW += self.reg * W\n",
        "\n",
        "            grads[f'W{i}'] = dW\n",
        "            grads[f'b{i}'] = db\n",
        "\n",
        "        # *****END OF YOUR CODE (DO NOT DELETE/MODIFY THIS LINE)*****\n",
        "        ########################################################################\n",
        "        #                          END OF YOUR CODE                           #\n",
        "        ########################################################################\n",
        "\n",
        "        return loss, grads\n"
      ]
    },
    {
      "cell_type": "markdown",
      "id": "a14a2795",
      "metadata": {
        "id": "a14a2795"
      },
      "source": [
        "## Initial Loss and Gradient Check\n",
        "\n",
        "As a sanity check, run the following to check the initial loss and to gradient check the network both with and without regularization. This is a good way to see if the initial losses seem reasonable.\n",
        "\n",
        "For gradient checking, you should expect to see errors around 1e-7 or less."
      ]
    },
    {
      "cell_type": "code",
      "execution_count": 57,
      "id": "cf719033",
      "metadata": {
        "id": "cf719033",
        "outputId": "a622c64c-d10e-4f48-a0f9-bde697f796cc",
        "colab": {
          "base_uri": "https://localhost:8080/"
        }
      },
      "outputs": [
        {
          "output_type": "stream",
          "name": "stdout",
          "text": [
            "Running check with reg = 0\n",
            "Initial loss: 2.300479089768492\n",
            "W1 relative error: 1.0252674471656573e-07\n",
            "W2 relative error: 2.2120479295080622e-05\n",
            "W3 relative error: 4.5623278736665505e-07\n",
            "b1 relative error: 4.6600944653202505e-09\n",
            "b2 relative error: 2.085654276112763e-09\n",
            "b3 relative error: 1.689724888469736e-10\n",
            "Running check with reg = 3.14\n",
            "Initial loss: 7.052114776533016\n",
            "W1 relative error: 3.904541941902138e-09\n",
            "W2 relative error: 6.86942277940646e-08\n",
            "W3 relative error: 3.483989247437803e-08\n",
            "b1 relative error: 1.4752427965311745e-08\n",
            "b2 relative error: 1.4615869332918208e-09\n",
            "b3 relative error: 1.3200479211447775e-10\n"
          ]
        }
      ],
      "source": [
        "# Gradient check for FullyConnectedNet with different regularization strengths\n",
        "\n",
        "# Set random seed for reproducibility\n",
        "np.random.seed(231)\n",
        "\n",
        "# Define dimensions for input, hidden layers, and output\n",
        "N, D, H1, H2, C = 2, 15, 20, 30, 10\n",
        "X = np.random.randn(N, D)             # Input data\n",
        "y = np.random.randint(C, size=(N,))   # Random labels\n",
        "\n",
        "# Run gradient checks with different regularization values\n",
        "for reg in [0, 3.14]:\n",
        "    print(\"Running check with reg =\", reg)\n",
        "\n",
        "    # Initialize the model with specified parameters\n",
        "    model = FullyConnectedNet(\n",
        "        \"classification\",\n",
        "        [H1, H2],                      # Hidden layer dimensions\n",
        "        [False, False],                # No batch normalization\n",
        "        input_dim=D,\n",
        "        output_dim=C,\n",
        "        reg=reg,\n",
        "        weight_scale=5e-2,\n",
        "        dtype=np.float64\n",
        "    )\n",
        "\n",
        "    # Compute the initial loss and gradients\n",
        "    loss, grads = model.loss(X, y)\n",
        "    print(\"Initial loss:\", loss)\n",
        "\n",
        "    # Check the gradients against numerical gradients\n",
        "    # Most errors should be on the order of e-7 or smaller.\n",
        "    # For reg = 0, an error on the order of e-5 for W2 is acceptable.\n",
        "    for name in sorted(grads):\n",
        "        f = lambda _: model.loss(X, y)[0]  # Define function to compute loss\n",
        "        grad_num = eval_numerical_gradient(f, model.params[name], verbose=False, h=1e-5)\n",
        "        print(f\"{name} relative error: {rel_error(grad_num, grads[name])}\")\n"
      ]
    },
    {
      "cell_type": "code",
      "execution_count": 58,
      "id": "0bc48caf",
      "metadata": {
        "id": "0bc48caf",
        "outputId": "e125b7ab-ecbc-480f-8024-05d5b2e233b9",
        "colab": {
          "base_uri": "https://localhost:8080/"
        }
      },
      "outputs": [
        {
          "output_type": "stream",
          "name": "stdout",
          "text": [
            "Running check with reg = 0\n",
            "Initial loss: 2.2611955101340957\n",
            "W1 relative error: 1.10e-04\n",
            "W2 relative error: 5.65e-06\n",
            "W3 relative error: 4.14e-10\n",
            "b1 relative error: 4.44e-08\n",
            "b2 relative error: 5.55e-09\n",
            "b3 relative error: 1.02e-10\n",
            "beta1 relative error: 7.33e-09\n",
            "beta2 relative error: 1.17e-09\n",
            "gamma1 relative error: 7.47e-09\n",
            "gamma2 relative error: 3.35e-09\n",
            "\n",
            "Running check with reg = 3.14\n",
            "Initial loss: 6.996533220108303\n",
            "W1 relative error: 1.98e-06\n",
            "W2 relative error: 2.28e-06\n",
            "W3 relative error: 1.11e-08\n",
            "b1 relative error: 5.55e-09\n",
            "b2 relative error: 2.22e-08\n",
            "b3 relative error: 1.73e-10\n",
            "beta1 relative error: 6.65e-09\n",
            "beta2 relative error: 3.48e-09\n",
            "gamma1 relative error: 6.27e-09\n",
            "gamma2 relative error: 4.67e-09\n"
          ]
        }
      ],
      "source": [
        "# Gradient check for FullyConnectedNet with batch normalization and different regularization strengths\n",
        "\n",
        "# Set random seed for reproducibility\n",
        "np.random.seed(231)\n",
        "\n",
        "# Define dimensions for input, hidden layers, and output\n",
        "N, D, H1, H2, C = 2, 15, 20, 30, 10\n",
        "X = np.random.randn(N, D)             # Input data\n",
        "y = np.random.randint(C, size=(N,))   # Random labels\n",
        "\n",
        "# Run gradient checks with different regularization values\n",
        "# Expected error ranges:\n",
        "# - For weights (W): 1e-4 ~ 1e-10\n",
        "# - For biases (b): 1e-8 ~ 1e-10\n",
        "# - For batchnorm parameters (gamma and beta): 1e-8 ~ 1e-9\n",
        "for reg in [0, 3.14]:\n",
        "    print('Running check with reg =', reg)\n",
        "\n",
        "    # Initialize the model with batch normalization enabled\n",
        "    model = FullyConnectedNet(\n",
        "        \"classification\",\n",
        "        [H1, H2],                    # Hidden layer dimensions\n",
        "        [True, True],                # Batch normalization enabled\n",
        "        input_dim=D,\n",
        "        output_dim=C,\n",
        "        reg=reg,\n",
        "        weight_scale=5e-2,\n",
        "        dtype=np.float64\n",
        "    )\n",
        "\n",
        "    # Compute the initial loss and gradients\n",
        "    loss, grads = model.loss(X, y)\n",
        "    print('Initial loss:', loss)\n",
        "\n",
        "    # Check each gradient against numerical gradients\n",
        "    for name in sorted(grads):\n",
        "        f = lambda _: model.loss(X, y)[0]  # Define function to compute loss\n",
        "        grad_num = eval_numerical_gradient(f, model.params[name], verbose=False, h=1e-5)\n",
        "        print(f'{name} relative error: {rel_error(grad_num, grads[name]):.2e}')\n",
        "\n",
        "    if reg == 0:\n",
        "        print()  # Separate output for readability\n"
      ]
    },
    {
      "cell_type": "markdown",
      "id": "6042ddcf",
      "metadata": {
        "id": "6042ddcf"
      },
      "source": [
        "## SGD+Momentum\n",
        "Stochastic gradient descent with momentum is a widely used update rule that tends to make deep networks converge faster than vanilla stochastic gradient descent.\n",
        "\n",
        "Implement the SGD+momentum update rule in the function `sgd_momentum`."
      ]
    },
    {
      "cell_type": "code",
      "execution_count": 59,
      "id": "2e678506",
      "metadata": {
        "id": "2e678506"
      },
      "outputs": [],
      "source": [
        "def sgd_momentum(w, dw, config=None):\n",
        "    \"\"\"\n",
        "    Performs stochastic gradient descent with momentum.\n",
        "\n",
        "    Parameters:\n",
        "    - w: Current weights, a numpy array\n",
        "    - dw: Gradient of the loss with respect to w, same shape as w\n",
        "    - config: Dictionary containing hyperparameters:\n",
        "        - learning_rate: Scalar for the step size (default is 1e-2)\n",
        "        - momentum: Scalar between 0 and 1 for momentum value (default is 0.9)\n",
        "        - velocity: Numpy array of same shape as w and dw, storing moving\n",
        "                    average of gradients (initialized to zeros if not provided)\n",
        "\n",
        "    Returns:\n",
        "    - next_w: Updated weights after applying momentum update\n",
        "    - config: Updated config dictionary with the new velocity\n",
        "    \"\"\"\n",
        "    if config is None:\n",
        "        config = {}\n",
        "    config.setdefault(\"learning_rate\", 1e-2)\n",
        "    config.setdefault(\"momentum\", 0.9)\n",
        "    v = config.get(\"velocity\", np.zeros_like(w))\n",
        "\n",
        "    next_w = None\n",
        "    ###########################################################################\n",
        "    # Task: Implement the momentum update formula. Update the weights w       #\n",
        "    # using both the learning rate and the moving average of gradients stored #\n",
        "    # in velocity v.                                                          #\n",
        "    ###########################################################################\n",
        "    # *****START OF YOUR CODE (DO NOT DELETE/MODIFY THIS LINE)*****\n",
        "    momentum = config[\"momentum\"]\n",
        "    learning_rate = config[\"learning_rate\"]\n",
        "    v = momentum * v - learning_rate * dw\n",
        "    next_w = w + v\n",
        "    # *****END OF YOUR CODE (DO NOT DELETE/MODIFY THIS LINE)*****\n",
        "    ###########################################################################\n",
        "    #                             END OF YOUR CODE                            #\n",
        "    ###########################################################################\n",
        "    config[\"velocity\"] = v\n",
        "\n",
        "    return next_w, config\n"
      ]
    },
    {
      "cell_type": "markdown",
      "id": "f1730d10",
      "metadata": {
        "id": "f1730d10"
      },
      "source": [
        "Run the following to check your implementation. You should see errors less than e-8."
      ]
    },
    {
      "cell_type": "code",
      "execution_count": 60,
      "id": "3595fc5b",
      "metadata": {
        "id": "3595fc5b",
        "outputId": "a8080c33-77a7-4388-bfeb-c878b672ebf8",
        "colab": {
          "base_uri": "https://localhost:8080/"
        }
      },
      "outputs": [
        {
          "output_type": "stream",
          "name": "stdout",
          "text": [
            "next_w error:  8.882347033505819e-09\n",
            "velocity error:  4.269287743278663e-09\n"
          ]
        }
      ],
      "source": [
        "# Test for sgd_momentum function\n",
        "\n",
        "# Define dimensions and create sample weight and gradient arrays\n",
        "N, D = 4, 5\n",
        "w = np.linspace(-0.4, 0.6, num=N*D).reshape(N, D)  # Sample weights\n",
        "dw = np.linspace(-0.6, 0.4, num=N*D).reshape(N, D) # Sample gradients\n",
        "v = np.linspace(0.6, 0.9, num=N*D).reshape(N, D)   # Initial velocity\n",
        "\n",
        "# Initialize configuration dictionary with learning rate and initial velocity\n",
        "config = {\"learning_rate\": 1e-3, \"velocity\": v}\n",
        "\n",
        "# Perform SGD with momentum update\n",
        "next_w, _ = sgd_momentum(w, dw, config=config)\n",
        "\n",
        "# Expected values for comparison\n",
        "expected_next_w = np.asarray([\n",
        "  [0.1406,      0.20738947,  0.27417895,  0.34096842,  0.40775789],\n",
        "  [0.47454737,  0.54133684,  0.60812632,  0.67491579,  0.74170526],\n",
        "  [0.80849474,  0.87528421,  0.94207368,  1.00886316,  1.07565263],\n",
        "  [1.14244211,  1.20923158,  1.27602105,  1.34281053,  1.4096    ]])\n",
        "expected_velocity = np.asarray([\n",
        "  [0.5406,      0.55475789,  0.56891579,  0.58307368,  0.59723158],\n",
        "  [0.61138947,  0.62554737,  0.63970526,  0.65386316,  0.66802105],\n",
        "  [0.68217895,  0.69633684,  0.71049474,  0.72465263,  0.73881053],\n",
        "  [0.75296842,  0.76712632,  0.78128421,  0.79544211,  0.8096    ]])\n",
        "\n",
        "# Check the relative error between computed values and expected values\n",
        "# Should see relative errors around e-8 or less for a correct implementation\n",
        "print(\"next_w error: \", rel_error(next_w, expected_next_w))\n",
        "print(\"velocity error: \", rel_error(expected_velocity, config[\"velocity\"]))\n"
      ]
    },
    {
      "cell_type": "markdown",
      "id": "cc30c93e",
      "metadata": {
        "id": "cc30c93e"
      },
      "source": [
        "# MNIST\n",
        "MNIST is a widely used dataset of handwritten digits that contains 60,000 handwritten digits for training a machine learning model and 10,000 handwritten digits for testing the model."
      ]
    },
    {
      "cell_type": "code",
      "execution_count": 62,
      "id": "e3fa8400",
      "metadata": {
        "id": "e3fa8400",
        "outputId": "4e17d4de-7c35-405c-fe2d-63d95ab9a72a",
        "colab": {
          "base_uri": "https://localhost:8080/"
        }
      },
      "outputs": [
        {
          "output_type": "stream",
          "name": "stdout",
          "text": [
            "Train data shape:  (50000, 784)\n",
            "Train labels shape:  (50000,)\n",
            "Validation data shape:  (10000, 784)\n",
            "Validation labels shape:  (10000,)\n",
            "Test data shape:  (10000, 784)\n",
            "Test labels shape:  (10000,)\n"
          ]
        }
      ],
      "source": [
        "X_train, y_train, X_val, y_val, X_test, y_test = get_MNIST_data()\n",
        "print('Train data shape: ', X_train.shape)\n",
        "print('Train labels shape: ', y_train.shape)\n",
        "print('Validation data shape: ', X_val.shape)\n",
        "print('Validation labels shape: ', y_val.shape)\n",
        "print('Test data shape: ', X_test.shape)\n",
        "print('Test labels shape: ', y_test.shape)"
      ]
    },
    {
      "cell_type": "code",
      "execution_count": 64,
      "id": "1e15a728",
      "metadata": {
        "id": "1e15a728",
        "outputId": "4098bbcb-f861-40ac-9dab-773501e102d8",
        "colab": {
          "base_uri": "https://localhost:8080/",
          "height": 685
        }
      },
      "outputs": [
        {
          "output_type": "display_data",
          "data": {
            "text/plain": [
              "<Figure size 1000x800 with 70 Axes>"
            ],
            "image/png": "[encoded data removed]"
          },
          "metadata": {}
        }
      ],
      "source": [
        "# Visualize some examples from the dataset.\n",
        "# We show a few examples of training images from each class.\n",
        "classes = list(range(10))\n",
        "num_classes = len(classes)\n",
        "samples_per_class = 7\n",
        "for y, cls in enumerate(classes):\n",
        "    idxs = np.flatnonzero(y_train == y)\n",
        "    idxs = np.random.choice(idxs, samples_per_class, replace=False)\n",
        "    for i, idx in enumerate(idxs):\n",
        "        plt_idx = i * num_classes + y + 1\n",
        "        plt.subplot(samples_per_class, num_classes, plt_idx)\n",
        "        plt.imshow(X_train[idx].reshape((28, 28)))\n",
        "        plt.axis('off')\n",
        "        if i == 0:\n",
        "            plt.title(cls)\n",
        "plt.show()"
      ]
    },
    {
      "cell_type": "markdown",
      "id": "ca6ad76a",
      "metadata": {
        "id": "ca6ad76a"
      },
      "source": [
        "Data normalization is an important step which ensures that each input parameter has a similar data distribution. This makes convergence faster while training the network."
      ]
    },
    {
      "cell_type": "code",
      "execution_count": 65,
      "id": "ea87dfbb",
      "metadata": {
        "id": "ea87dfbb"
      },
      "outputs": [],
      "source": [
        "X_train, X_val, X_test = get_normalized_MNIST_data(X_train, X_val, X_test)"
      ]
    },
    {
      "cell_type": "markdown",
      "id": "3ed0af35",
      "metadata": {
        "id": "3ed0af35"
      },
      "source": [
        "# Train a Good Model!\n",
        "Open the file `solver.py` and read through it to familiarize yourself with the API. After doing so, use a `Solver` instance to train the best fully connected model that you can on MNIST, storing your best model in the `MNIST_best_model` variable. We require you to get at least 95% accuracy on the validation set using a fully connected network."
      ]
    },
    {
      "cell_type": "code",
      "execution_count": 68,
      "id": "5d59d748",
      "metadata": {
        "id": "5d59d748",
        "outputId": "92d5c56f-51c4-48c7-836b-e6eaba0bde95",
        "colab": {
          "base_uri": "https://localhost:8080/"
        }
      },
      "outputs": [
        {
          "output_type": "stream",
          "name": "stdout",
          "text": [
            "(Iteration 1 / 2500) loss: 2.305467\n",
            "(Epoch 0 / 10) train acc: 0.123000; val_acc: 0.118900\n",
            "(Iteration 101 / 2500) loss: 1.753964\n",
            "(Iteration 201 / 2500) loss: 1.072654\n",
            "(Epoch 1 / 10) train acc: 0.805000; val_acc: 0.809600\n",
            "(Iteration 301 / 2500) loss: 0.862459\n",
            "(Iteration 401 / 2500) loss: 0.653973\n",
            "(Epoch 2 / 10) train acc: 0.950000; val_acc: 0.944800\n",
            "(Iteration 501 / 2500) loss: 0.406672\n",
            "(Iteration 601 / 2500) loss: 0.320500\n",
            "(Iteration 701 / 2500) loss: 0.248140\n",
            "(Epoch 3 / 10) train acc: 0.967000; val_acc: 0.960300\n",
            "(Iteration 801 / 2500) loss: 0.210748\n",
            "(Iteration 901 / 2500) loss: 0.213241\n",
            "(Epoch 4 / 10) train acc: 0.981000; val_acc: 0.966000\n",
            "(Iteration 1001 / 2500) loss: 0.144464\n",
            "(Iteration 1101 / 2500) loss: 0.121685\n",
            "(Iteration 1201 / 2500) loss: 0.111665\n",
            "(Epoch 5 / 10) train acc: 0.989000; val_acc: 0.970900\n",
            "(Iteration 1301 / 2500) loss: 0.076604\n",
            "(Iteration 1401 / 2500) loss: 0.119443\n",
            "(Epoch 6 / 10) train acc: 0.986000; val_acc: 0.972600\n",
            "(Iteration 1501 / 2500) loss: 0.082855\n",
            "(Iteration 1601 / 2500) loss: 0.122738\n",
            "(Iteration 1701 / 2500) loss: 0.081033\n",
            "(Epoch 7 / 10) train acc: 0.983000; val_acc: 0.974300\n",
            "(Iteration 1801 / 2500) loss: 0.095833\n",
            "(Iteration 1901 / 2500) loss: 0.066962\n",
            "(Epoch 8 / 10) train acc: 0.993000; val_acc: 0.973400\n",
            "(Iteration 2001 / 2500) loss: 0.057685\n",
            "(Iteration 2101 / 2500) loss: 0.055991\n",
            "(Iteration 2201 / 2500) loss: 0.059136\n",
            "(Epoch 9 / 10) train acc: 0.987000; val_acc: 0.975300\n",
            "(Iteration 2301 / 2500) loss: 0.041971\n",
            "(Iteration 2401 / 2500) loss: 0.072492\n",
            "(Epoch 10 / 10) train acc: 0.991000; val_acc: 0.976900\n"
          ]
        }
      ],
      "source": [
        "MNIST_best_model = None\n",
        "\n",
        "################################################################################\n",
        "# Train the best FullyConnectedNet model on the MNIST dataset. Experiment      #\n",
        "# with hyperparameters such as the number of layers, hidden layer sizes,       #\n",
        "# batch normalization, and regularization strength. Store your best model in   #\n",
        "# the MNIST_best_model variable.                                               #\n",
        "################################################################################\n",
        "# *****START OF YOUR CODE (DO NOT DELETE/MODIFY THIS LINE)*****\n",
        "\n",
        "# Prepare the MNIST data, ensuring labels are in integer format\n",
        "data = {\n",
        "    'X_train': X_train,\n",
        "    'y_train': y_train.astype(int),\n",
        "    'X_val': X_val,\n",
        "    'y_val': y_val.astype(int),\n",
        "    'X_test': X_test,\n",
        "    'y_test': y_test.astype(int)\n",
        "}\n",
        "\n",
        "# Define the model with specific hyperparameters\n",
        "# Experiment with hidden_dims, normalization, and reg to improve performance\n",
        "model = FullyConnectedNet(\n",
        "    category = 'classification',\n",
        "    hidden_dims=[128, 64, 32],          # Example hidden layer sizes, adjust as needed\n",
        "    normalization=[True, True, True],   # Enable batch normalization in each layer\n",
        "    input_dim=784,                      # Input size for 28x28 MNIST images\n",
        "    output_dim=10,                      # 10 output classes for digits 0-9\n",
        "    reg=1e-4,                           # Regularization strength, adjust as needed\n",
        "    weight_scale=1e-2,                  # Standard deviation for weight initialization\n",
        "    dtype=np.float64                    # Use float64 for higher precision\n",
        ")\n",
        "\n",
        "# Set up the Solver with chosen parameters and learning rate decay\n",
        "solver = Solver(\n",
        "    model,\n",
        "    data,\n",
        "    update_rule=sgd_momentum,\n",
        "    optim_config={\n",
        "        'learning_rate': 1e-3,          # Learning rate, adjust for best results\n",
        "    },\n",
        "    lr_decay=0.95,                      # Learning rate decay over epochs\n",
        "    num_epochs=10,                      # Increase epochs to allow more training\n",
        "    batch_size=200,                     # Batch size for SGD\n",
        "    print_every=100                     # Frequency of progress printing\n",
        ")\n",
        "\n",
        "# Train the model and save the solver and model\n",
        "solver.train()\n",
        "\n",
        "MNIST_solver = solver\n",
        "MNIST_best_model = model\n"
      ]
    },
    {
      "cell_type": "code",
      "execution_count": 69,
      "id": "25f8a45b",
      "metadata": {
        "id": "25f8a45b",
        "outputId": "712adc8b-d953-430b-f1d7-0e12ac31fdc5",
        "colab": {
          "base_uri": "https://localhost:8080/",
          "height": 1000
        }
      },
      "outputs": [
        {
          "output_type": "display_data",
          "data": {
            "text/plain": [
              "<Figure size 1500x1200 with 2 Axes>"
            ],
            "image/png": "[encoded data removed]"
          },
          "metadata": {}
        }
      ],
      "source": [
        "# Run this cell to visualize training loss and train / val accuracy\n",
        "\n",
        "plt.subplot(2, 1, 1)\n",
        "plt.title('Training loss')\n",
        "plt.plot(MNIST_solver.loss_history, 'o')\n",
        "plt.xlabel('Iteration')\n",
        "\n",
        "plt.subplot(2, 1, 2)\n",
        "plt.title('Accuracy')\n",
        "plt.plot(MNIST_solver.train_acc_history, '-o', label='train')\n",
        "plt.plot(MNIST_solver.val_acc_history, '-o', label='val')\n",
        "plt.plot([0.8] * len(MNIST_solver.val_acc_history), 'k--')\n",
        "plt.xlabel('Epoch')\n",
        "plt.legend(loc='lower right')\n",
        "plt.gcf().set_size_inches(15, 12)\n",
        "plt.show()"
      ]
    },
    {
      "cell_type": "markdown",
      "id": "19ff7e18",
      "metadata": {
        "id": "19ff7e18"
      },
      "source": [
        "# Test Your Model!\n",
        "Run your best model on the validation and test sets. You should achieve at least 95% accuracy on the validation set."
      ]
    },
    {
      "cell_type": "code",
      "execution_count": 70,
      "id": "3df244fa",
      "metadata": {
        "id": "3df244fa",
        "outputId": "e6746599-15f1-45ce-c284-3fc8155e9f2a",
        "colab": {
          "base_uri": "https://localhost:8080/"
        }
      },
      "outputs": [
        {
          "output_type": "stream",
          "name": "stdout",
          "text": [
            "Validation set accuracy:  0.9769\n",
            "Test set accuracy:  0.9747\n"
          ]
        }
      ],
      "source": [
        "y_test_pred = np.argmax(MNIST_best_model.loss(data['X_test']), axis=1)\n",
        "y_val_pred = np.argmax(MNIST_best_model.loss(data['X_val']), axis=1)\n",
        "print('Validation set accuracy: ', (y_val_pred == data['y_val']).mean())\n",
        "print('Test set accuracy: ', (y_test_pred == data['y_test']).mean())"
      ]
    }
  ],
  "metadata": {
    "kernelspec": {
      "display_name": "Python 3 (ipykernel)",
      "language": "python",
      "name": "python3"
    },
    "language_info": {
      "codemirror_mode": {
        "name": "ipython",
        "version": 3
      },
      "file_extension": ".py",
      "mimetype": "text/x-python",
      "name": "python",
      "nbconvert_exporter": "python",
      "pygments_lexer": "ipython3",
      "version": "3.9.12"
    },
    "colab": {
      "provenance": []
    }
  },
  "nbformat": 4,
  "nbformat_minor": 5
}